{
  "nbformat": 4,
  "nbformat_minor": 0,
  "metadata": {
    "colab": {
      "name": "Project3.ipynb",
      "provenance": [],
      "collapsed_sections": [
        "dRYvTS8S4aOV",
        "GYmQdw1n3sh0",
        "FcRgwjb_lFT5",
        "byB-MiTXmGQC",
        "fKWB-WJ6989B",
        "qlijt7eCagMA"
      ]
    },
    "kernelspec": {
      "name": "python3",
      "display_name": "Python 3"
    }
  },
  "cells": [
    {
      "cell_type": "markdown",
      "metadata": {
        "id": "dRYvTS8S4aOV",
        "colab_type": "text"
      },
      "source": [
        "#Data Import"
      ]
    },
    {
      "cell_type": "code",
      "metadata": {
        "id": "j9WwRMwy2f5M",
        "colab_type": "code",
        "colab": {}
      },
      "source": [
        "import pandas as pd\n",
        "import numpy as np\n",
        "import matplotlib.pyplot as plt"
      ],
      "execution_count": 0,
      "outputs": []
    },
    {
      "cell_type": "code",
      "metadata": {
        "id": "JWWc5t6D2-tV",
        "colab_type": "code",
        "outputId": "5513c63e-f48f-4fe8-9d54-a3dbfedf81a2",
        "colab": {
          "base_uri": "https://localhost:8080/",
          "height": 72
        }
      },
      "source": [
        "import statsmodels.api as sm\n",
        "import seaborn as sns\n",
        "from sklearn.model_selection import train_test_split, cross_validate\n",
        "from sklearn.metrics import r2_score, mean_squared_error\n",
        "from sklearn.preprocessing import StandardScaler\n",
        "\n",
        "from sklearn.linear_model import Ridge"
      ],
      "execution_count": 0,
      "outputs": [
        {
          "output_type": "stream",
          "text": [
            "/usr/local/lib/python3.6/dist-packages/statsmodels/tools/_testing.py:19: FutureWarning: pandas.util.testing is deprecated. Use the functions in the public API at pandas.testing instead.\n",
            "  import pandas.util.testing as tm\n"
          ],
          "name": "stderr"
        }
      ]
    },
    {
      "cell_type": "code",
      "metadata": {
        "id": "mWJZDa8P3FSX",
        "colab_type": "code",
        "colab": {}
      },
      "source": [
        "from sklearn.pipeline import Pipeline\n",
        "import pprint\n",
        "pp = pprint.PrettyPrinter()"
      ],
      "execution_count": 0,
      "outputs": []
    },
    {
      "cell_type": "code",
      "metadata": {
        "id": "tGYobMhv3aCg",
        "colab_type": "code",
        "outputId": "3aa9d399-ad5b-4393-e933-8a6633e5cb55",
        "colab": {
          "base_uri": "https://localhost:8080/",
          "height": 124
        }
      },
      "source": [
        "from google.colab import drive\n",
        "drive.mount('/content/Drive')"
      ],
      "execution_count": 0,
      "outputs": [
        {
          "output_type": "stream",
          "text": [
            "Go to this URL in a browser: https://accounts.google.com/o/oauth2/auth?client_id=947318989803-6bn6qk8qdgf4n4g3pfee6491hc0brc4i.apps.googleusercontent.com&redirect_uri=urn%3aietf%3awg%3aoauth%3a2.0%3aoob&response_type=code&scope=email%20https%3a%2f%2fwww.googleapis.com%2fauth%2fdocs.test%20https%3a%2f%2fwww.googleapis.com%2fauth%2fdrive%20https%3a%2f%2fwww.googleapis.com%2fauth%2fdrive.photos.readonly%20https%3a%2f%2fwww.googleapis.com%2fauth%2fpeopleapi.readonly\n",
            "\n",
            "Enter your authorization code:\n",
            "··········\n",
            "Mounted at /content/Drive\n"
          ],
          "name": "stdout"
        }
      ]
    },
    {
      "cell_type": "code",
      "metadata": {
        "id": "fHHFkJto3d72",
        "colab_type": "code",
        "colab": {}
      },
      "source": [
        "data = pd.read_csv('/content/Drive/My Drive/Colab Notebooks/Project3/advertising.csv')"
      ],
      "execution_count": 0,
      "outputs": []
    },
    {
      "cell_type": "markdown",
      "metadata": {
        "id": "GYmQdw1n3sh0",
        "colab_type": "text"
      },
      "source": [
        "#Data Exploration\n",
        "\n",
        "<div>\n",
        "<img src=https://i.pinimg.com/originals/92/6d/12/926d127280fbd2ef409166c0f2f4fe1c.jpg width=\"260\">\n",
        "</div>\n",
        "\n",
        "* Channel selection: Youtube does not seem to have an impact on Sales\n",
        "* No seasonal trends visible in the data\n",
        "* Social has a pretty strong linear relationship to sales, as evidenced by the scatter plot and the correlation of 0.90"
      ]
    },
    {
      "cell_type": "code",
      "metadata": {
        "id": "6A9G15A84jn5",
        "colab_type": "code",
        "outputId": "1b710113-997e-4c49-eeef-99cf53a8a892",
        "colab": {
          "base_uri": "https://localhost:8080/",
          "height": 415
        }
      },
      "source": [
        "data"
      ],
      "execution_count": 0,
      "outputs": [
        {
          "output_type": "execute_result",
          "data": {
            "text/html": [
              "<div>\n",
              "<style scoped>\n",
              "    .dataframe tbody tr th:only-of-type {\n",
              "        vertical-align: middle;\n",
              "    }\n",
              "\n",
              "    .dataframe tbody tr th {\n",
              "        vertical-align: top;\n",
              "    }\n",
              "\n",
              "    .dataframe thead th {\n",
              "        text-align: right;\n",
              "    }\n",
              "</style>\n",
              "<table border=\"1\" class=\"dataframe\">\n",
              "  <thead>\n",
              "    <tr style=\"text-align: right;\">\n",
              "      <th></th>\n",
              "      <th>Day</th>\n",
              "      <th>Social</th>\n",
              "      <th>Google Adwords</th>\n",
              "      <th>Youtube</th>\n",
              "      <th>Sales</th>\n",
              "    </tr>\n",
              "  </thead>\n",
              "  <tbody>\n",
              "    <tr>\n",
              "      <th>0</th>\n",
              "      <td>1</td>\n",
              "      <td>230.1</td>\n",
              "      <td>37.8</td>\n",
              "      <td>69.2</td>\n",
              "      <td>22.1</td>\n",
              "    </tr>\n",
              "    <tr>\n",
              "      <th>1</th>\n",
              "      <td>2</td>\n",
              "      <td>44.5</td>\n",
              "      <td>39.3</td>\n",
              "      <td>45.1</td>\n",
              "      <td>10.4</td>\n",
              "    </tr>\n",
              "    <tr>\n",
              "      <th>2</th>\n",
              "      <td>3</td>\n",
              "      <td>17.2</td>\n",
              "      <td>45.9</td>\n",
              "      <td>69.3</td>\n",
              "      <td>12.0</td>\n",
              "    </tr>\n",
              "    <tr>\n",
              "      <th>3</th>\n",
              "      <td>4</td>\n",
              "      <td>151.5</td>\n",
              "      <td>41.3</td>\n",
              "      <td>58.5</td>\n",
              "      <td>16.5</td>\n",
              "    </tr>\n",
              "    <tr>\n",
              "      <th>4</th>\n",
              "      <td>5</td>\n",
              "      <td>180.8</td>\n",
              "      <td>10.8</td>\n",
              "      <td>58.4</td>\n",
              "      <td>17.9</td>\n",
              "    </tr>\n",
              "    <tr>\n",
              "      <th>...</th>\n",
              "      <td>...</td>\n",
              "      <td>...</td>\n",
              "      <td>...</td>\n",
              "      <td>...</td>\n",
              "      <td>...</td>\n",
              "    </tr>\n",
              "    <tr>\n",
              "      <th>195</th>\n",
              "      <td>196</td>\n",
              "      <td>38.2</td>\n",
              "      <td>3.7</td>\n",
              "      <td>13.8</td>\n",
              "      <td>7.6</td>\n",
              "    </tr>\n",
              "    <tr>\n",
              "      <th>196</th>\n",
              "      <td>197</td>\n",
              "      <td>94.2</td>\n",
              "      <td>4.9</td>\n",
              "      <td>8.1</td>\n",
              "      <td>14.0</td>\n",
              "    </tr>\n",
              "    <tr>\n",
              "      <th>197</th>\n",
              "      <td>198</td>\n",
              "      <td>177.0</td>\n",
              "      <td>9.3</td>\n",
              "      <td>6.4</td>\n",
              "      <td>14.8</td>\n",
              "    </tr>\n",
              "    <tr>\n",
              "      <th>198</th>\n",
              "      <td>199</td>\n",
              "      <td>283.6</td>\n",
              "      <td>42.0</td>\n",
              "      <td>66.2</td>\n",
              "      <td>25.5</td>\n",
              "    </tr>\n",
              "    <tr>\n",
              "      <th>199</th>\n",
              "      <td>200</td>\n",
              "      <td>232.1</td>\n",
              "      <td>8.6</td>\n",
              "      <td>8.7</td>\n",
              "      <td>18.4</td>\n",
              "    </tr>\n",
              "  </tbody>\n",
              "</table>\n",
              "<p>200 rows × 5 columns</p>\n",
              "</div>"
            ],
            "text/plain": [
              "     Day  Social  Google Adwords  Youtube  Sales\n",
              "0      1   230.1            37.8     69.2   22.1\n",
              "1      2    44.5            39.3     45.1   10.4\n",
              "2      3    17.2            45.9     69.3   12.0\n",
              "3      4   151.5            41.3     58.5   16.5\n",
              "4      5   180.8            10.8     58.4   17.9\n",
              "..   ...     ...             ...      ...    ...\n",
              "195  196    38.2             3.7     13.8    7.6\n",
              "196  197    94.2             4.9      8.1   14.0\n",
              "197  198   177.0             9.3      6.4   14.8\n",
              "198  199   283.6            42.0     66.2   25.5\n",
              "199  200   232.1             8.6      8.7   18.4\n",
              "\n",
              "[200 rows x 5 columns]"
            ]
          },
          "metadata": {
            "tags": []
          },
          "execution_count": 6
        }
      ]
    },
    {
      "cell_type": "code",
      "metadata": {
        "id": "79oV9Rjl4n7K",
        "colab_type": "code",
        "outputId": "ea6168b9-826d-4395-cb81-40180681523f",
        "colab": {
          "base_uri": "https://localhost:8080/",
          "height": 121
        }
      },
      "source": [
        "data.dtypes"
      ],
      "execution_count": 0,
      "outputs": [
        {
          "output_type": "execute_result",
          "data": {
            "text/plain": [
              "Day                 int64\n",
              "Social            float64\n",
              "Google Adwords    float64\n",
              "Youtube           float64\n",
              "Sales             float64\n",
              "dtype: object"
            ]
          },
          "metadata": {
            "tags": []
          },
          "execution_count": 7
        }
      ]
    },
    {
      "cell_type": "code",
      "metadata": {
        "id": "Vf_TncBsWKzJ",
        "colab_type": "code",
        "outputId": "f32fbf3c-5762-41fb-f709-c02c2bb878b1",
        "colab": {
          "base_uri": "https://localhost:8080/",
          "height": 121
        }
      },
      "source": [
        "data.isnull().sum()"
      ],
      "execution_count": 0,
      "outputs": [
        {
          "output_type": "execute_result",
          "data": {
            "text/plain": [
              "Day               0\n",
              "Social            0\n",
              "Google Adwords    0\n",
              "Youtube           0\n",
              "Sales             0\n",
              "dtype: int64"
            ]
          },
          "metadata": {
            "tags": []
          },
          "execution_count": 8
        }
      ]
    },
    {
      "cell_type": "code",
      "metadata": {
        "id": "thc1L269WO_s",
        "colab_type": "code",
        "outputId": "e7c71c6a-8d6a-47d3-8a74-e116fe82161f",
        "colab": {
          "base_uri": "https://localhost:8080/",
          "height": 121
        }
      },
      "source": [
        "data.corr()['Sales']"
      ],
      "execution_count": 0,
      "outputs": [
        {
          "output_type": "execute_result",
          "data": {
            "text/plain": [
              "Day              -0.021306\n",
              "Social            0.901208\n",
              "Google Adwords    0.349631\n",
              "Youtube           0.157960\n",
              "Sales             1.000000\n",
              "Name: Sales, dtype: float64"
            ]
          },
          "metadata": {
            "tags": []
          },
          "execution_count": 9
        }
      ]
    },
    {
      "cell_type": "markdown",
      "metadata": {
        "id": "jDe6Ej1SZr2T",
        "colab_type": "text"
      },
      "source": [
        "We would drop `Day` and `Youtube`, as the have a low correlation (<0.2) with `Sales`, however wie will keep both for now, due to the low amount of variables overall."
      ]
    },
    {
      "cell_type": "code",
      "metadata": {
        "id": "MF6qTdvmW9eC",
        "colab_type": "code",
        "outputId": "ab7a71cf-1861-48dc-d0f3-4fd0b9db94ba",
        "colab": {
          "base_uri": "https://localhost:8080/",
          "height": 247
        }
      },
      "source": [
        "fig, axs = plt.subplots(1,5, figsize=(15,3),sharey=True)\n",
        "\n",
        "for column, ax in zip(data.columns, axs.flatten()[:5]):\n",
        "  sns.distplot(data[column],ax=ax)\n",
        "\n",
        "plt.suptitle('Distribution of Variables')\n",
        "plt.show()"
      ],
      "execution_count": 0,
      "outputs": [
        {
          "output_type": "display_data",
          "data": {
            "image/png": "[encoded data removed]",
            "text/plain": [
              "<Figure size 1080x216 with 5 Axes>"
            ]
          },
          "metadata": {
            "tags": [],
            "needs_background": "light"
          }
        }
      ]
    },
    {
      "cell_type": "code",
      "metadata": {
        "id": "lau0terxXKjB",
        "colab_type": "code",
        "outputId": "cb480b42-61b6-49c8-940a-e867433d7c89",
        "colab": {
          "base_uri": "https://localhost:8080/",
          "height": 104
        }
      },
      "source": [
        "for column in data.columns:\n",
        "  print(f'{column}: {data[column].quantile(0.99)}, {data[column].max()}')"
      ],
      "execution_count": 0,
      "outputs": [
        {
          "output_type": "stream",
          "text": [
            "Day: 198.01, 200\n",
            "Social: 292.9069999999999, 296.4\n",
            "Google Adwords: 49.4, 49.6\n",
            "Youtube: 89.5149999999999, 114.0\n",
            "Sales: 25.506999999999994, 27.0\n"
          ],
          "name": "stdout"
        }
      ]
    },
    {
      "cell_type": "markdown",
      "metadata": {
        "id": "tzKp-W6OYP5Y",
        "colab_type": "text"
      },
      "source": [
        "The only variable with noticable outliers is Youtube, but the difference between the 99th percentile and the max seems acceptable. The Distributions are also fairly narrow, another indicator of not having to remove outliers."
      ]
    },
    {
      "cell_type": "code",
      "metadata": {
        "id": "Np9-x_PcXe5g",
        "colab_type": "code",
        "outputId": "72eddd90-7b0a-42f3-f5e5-0e32f0edc47f",
        "colab": {
          "base_uri": "https://localhost:8080/",
          "height": 247
        }
      },
      "source": [
        "fig, axs = plt.subplots(1,4, figsize=(15,3))\n",
        "\n",
        "for column, ax in zip(data.columns, axs.flatten()[:4]):\n",
        "  ax.scatter(data[column],data['Sales'])\n",
        "  ax.set_xlabel(column)\n",
        "  ax.set_ylabel('Sales')\n",
        "plt.suptitle('Scatterplots vs. Sales')\n",
        "plt.show()"
      ],
      "execution_count": 0,
      "outputs": [
        {
          "output_type": "display_data",
          "data": {
            "image/png": "[encoded data removed]",
            "text/plain": [
              "<Figure size 1080x216 with 4 Axes>"
            ]
          },
          "metadata": {
            "tags": [],
            "needs_background": "light"
          }
        }
      ]
    },
    {
      "cell_type": "markdown",
      "metadata": {
        "id": "n2DfZMc6fyxa",
        "colab_type": "text"
      },
      "source": [
        "Social has a clear linear trend vs. Sales. The other variables do not show any."
      ]
    },
    {
      "cell_type": "code",
      "metadata": {
        "id": "woU0iSzYQeS8",
        "colab_type": "code",
        "outputId": "4486a173-e242-4855-ad8d-4d85d3f1bc67",
        "colab": {
          "base_uri": "https://localhost:8080/",
          "height": 229
        }
      },
      "source": [
        "fig, axs = plt.subplots(1,4, figsize=(18,3))\n",
        "\n",
        "for column, ax in zip(data.columns[1:5], axs.flatten()[:4]):\n",
        "  ax.scatter(data['Day'],data[column])\n",
        "  ax.set_xlabel('Day')\n",
        "  ax.set_ylabel(column)\n",
        "plt.suptitle('Scatterplots vs. Day')\n",
        "plt.show()"
      ],
      "execution_count": 0,
      "outputs": [
        {
          "output_type": "display_data",
          "data": {
            "image/png": "[encoded data removed]",
            "text/plain": [
              "<Figure size 1296x216 with 4 Axes>"
            ]
          },
          "metadata": {
            "tags": [],
            "needs_background": "light"
          }
        }
      ]
    },
    {
      "cell_type": "markdown",
      "metadata": {
        "id": "MUwrsndBT5wL",
        "colab_type": "text"
      },
      "source": [
        "There seems to be no meaningful seasonal trend within the data. All variables show no significant trend vs. Day."
      ]
    },
    {
      "cell_type": "markdown",
      "metadata": {
        "id": "FcRgwjb_lFT5",
        "colab_type": "text"
      },
      "source": [
        "#OLS Regression\n",
        "\n",
        "![](https://media.makeameme.org/created/regression.jpg)\n",
        "\n",
        "* Price elasticity (Based on OLS coefficients without scaling): For every dollar spent on\n",
        "  * **Social Media**, there is a 5 cents increase in Sales\n",
        "  * **Google Adwords**, there is a 10 cents increase in Sales.\n",
        "  * **Youtube**, there is half a cent increase in Sales. (Not statistically significant, p>0.05)\n",
        "\n",
        "* Channel impact (Based on OLS coefficients with scaling): We see that **Social Media** has about 3 times the impact of **Google Adwords**\n",
        "\n",
        "* Average Channel Spending: Social 147, Google Adwords 23, Youtube 30. \n",
        "\n",
        "$\\Rightarrow$ Social Media has a higher impact on Sales because of the higher amount spent on it, however Google Adwords is twice as effective generating twice the amount of Sales per Dollar spent.\n",
        "\n",
        "* Final Formula\n",
        "    $ Sales = 0.05 * (Social) + 0.10 * (Google Adwords) + 4.79$\n",
        "    * This model has an $R^2$ of 0.900 and an MRSE of 1.638\n",
        "    * Without any Channels 1000ml would still make 4.79$ in Sales per day.\n",
        "    * We removed Days and Youtube from our model, since they carry no statistical significance.\n",
        "\n",
        "* Other possible features: Channel reach (clicks, views etc.), user demographic (through user profiles)"
      ]
    },
    {
      "cell_type": "code",
      "metadata": {
        "id": "br6-EQZOmhxJ",
        "colab_type": "code",
        "outputId": "e4056b1d-6e88-4f2f-c767-e2fda320aafc",
        "colab": {
          "base_uri": "https://localhost:8080/",
          "height": 121
        }
      },
      "source": [
        "data.mean()"
      ],
      "execution_count": 0,
      "outputs": [
        {
          "output_type": "execute_result",
          "data": {
            "text/plain": [
              "Day               100.5000\n",
              "Social            147.0425\n",
              "Google Adwords     23.2640\n",
              "Youtube            30.5540\n",
              "Sales              15.1305\n",
              "dtype: float64"
            ]
          },
          "metadata": {
            "tags": []
          },
          "execution_count": 14
        }
      ]
    },
    {
      "cell_type": "markdown",
      "metadata": {
        "id": "Mdydp9F7eph-",
        "colab_type": "text"
      },
      "source": [
        "The most spending is on Social, with Youtube and Google Adwords being close to each other."
      ]
    },
    {
      "cell_type": "markdown",
      "metadata": {
        "id": "byB-MiTXmGQC",
        "colab_type": "text"
      },
      "source": [
        "##With all variables\n",
        "* Google Adwords: 0.10, Social: 0.05, Youtube: 0.00 (insignificant)"
      ]
    },
    {
      "cell_type": "code",
      "metadata": {
        "id": "Kv9NQbKplJyk",
        "colab_type": "code",
        "outputId": "ce9b926b-f2c2-40ac-ea86-eb0808ff3d7b",
        "colab": {
          "base_uri": "https://localhost:8080/",
          "height": 482
        }
      },
      "source": [
        "#set variables\n",
        "x = data[['Social','Google Adwords','Youtube']]\n",
        "y = data['Sales']\n",
        "\n",
        "#add constant\n",
        "x = sm.add_constant(x)\n",
        "\n",
        "#test train split\n",
        "x_train, x_test, y_train, y_test = train_test_split(\n",
        "                                          x, y, test_size = 0.2, random_state = 42\n",
        "                                        )\n",
        "\n",
        "# run model\n",
        "lin_model = sm.OLS(y_train, x_train).fit()\n",
        "\n",
        "lin_model.summary()"
      ],
      "execution_count": 0,
      "outputs": [
        {
          "output_type": "execute_result",
          "data": {
            "text/html": [
              "<table class=\"simpletable\">\n",
              "<caption>OLS Regression Results</caption>\n",
              "<tr>\n",
              "  <th>Dep. Variable:</th>          <td>Sales</td>      <th>  R-squared:         </th> <td>   0.900</td>\n",
              "</tr>\n",
              "<tr>\n",
              "  <th>Model:</th>                   <td>OLS</td>       <th>  Adj. R-squared:    </th> <td>   0.898</td>\n",
              "</tr>\n",
              "<tr>\n",
              "  <th>Method:</th>             <td>Least Squares</td>  <th>  F-statistic:       </th> <td>   468.7</td>\n",
              "</tr>\n",
              "<tr>\n",
              "  <th>Date:</th>             <td>Wed, 06 May 2020</td> <th>  Prob (F-statistic):</th> <td>8.51e-78</td>\n",
              "</tr>\n",
              "<tr>\n",
              "  <th>Time:</th>                 <td>00:48:05</td>     <th>  Log-Likelihood:    </th> <td> -305.78</td>\n",
              "</tr>\n",
              "<tr>\n",
              "  <th>No. Observations:</th>      <td>   160</td>      <th>  AIC:               </th> <td>   619.6</td>\n",
              "</tr>\n",
              "<tr>\n",
              "  <th>Df Residuals:</th>          <td>   156</td>      <th>  BIC:               </th> <td>   631.9</td>\n",
              "</tr>\n",
              "<tr>\n",
              "  <th>Df Model:</th>              <td>     3</td>      <th>                     </th>     <td> </td>   \n",
              "</tr>\n",
              "<tr>\n",
              "  <th>Covariance Type:</th>      <td>nonrobust</td>    <th>                     </th>     <td> </td>   \n",
              "</tr>\n",
              "</table>\n",
              "<table class=\"simpletable\">\n",
              "<tr>\n",
              "         <td></td>           <th>coef</th>     <th>std err</th>      <th>t</th>      <th>P>|t|</th>  <th>[0.025</th>    <th>0.975]</th>  \n",
              "</tr>\n",
              "<tr>\n",
              "  <th>const</th>          <td>    4.7141</td> <td>    0.352</td> <td>   13.407</td> <td> 0.000</td> <td>    4.020</td> <td>    5.409</td>\n",
              "</tr>\n",
              "<tr>\n",
              "  <th>Social</th>         <td>    0.0545</td> <td>    0.002</td> <td>   34.972</td> <td> 0.000</td> <td>    0.051</td> <td>    0.058</td>\n",
              "</tr>\n",
              "<tr>\n",
              "  <th>Google Adwords</th> <td>    0.1009</td> <td>    0.010</td> <td>   10.470</td> <td> 0.000</td> <td>    0.082</td> <td>    0.120</td>\n",
              "</tr>\n",
              "<tr>\n",
              "  <th>Youtube</th>        <td>    0.0043</td> <td>    0.007</td> <td>    0.619</td> <td> 0.537</td> <td>   -0.010</td> <td>    0.018</td>\n",
              "</tr>\n",
              "</table>\n",
              "<table class=\"simpletable\">\n",
              "<tr>\n",
              "  <th>Omnibus:</th>       <td>13.344</td> <th>  Durbin-Watson:     </th> <td>   2.108</td>\n",
              "</tr>\n",
              "<tr>\n",
              "  <th>Prob(Omnibus):</th> <td> 0.001</td> <th>  Jarque-Bera (JB):  </th> <td>  22.080</td>\n",
              "</tr>\n",
              "<tr>\n",
              "  <th>Skew:</th>          <td>-0.422</td> <th>  Prob(JB):          </th> <td>1.60e-05</td>\n",
              "</tr>\n",
              "<tr>\n",
              "  <th>Kurtosis:</th>      <td> 4.613</td> <th>  Cond. No.          </th> <td>    471.</td>\n",
              "</tr>\n",
              "</table><br/><br/>Warnings:<br/>[1] Standard Errors assume that the covariance matrix of the errors is correctly specified."
            ],
            "text/plain": [
              "<class 'statsmodels.iolib.summary.Summary'>\n",
              "\"\"\"\n",
              "                            OLS Regression Results                            \n",
              "==============================================================================\n",
              "Dep. Variable:                  Sales   R-squared:                       0.900\n",
              "Model:                            OLS   Adj. R-squared:                  0.898\n",
              "Method:                 Least Squares   F-statistic:                     468.7\n",
              "Date:                Wed, 06 May 2020   Prob (F-statistic):           8.51e-78\n",
              "Time:                        00:48:05   Log-Likelihood:                -305.78\n",
              "No. Observations:                 160   AIC:                             619.6\n",
              "Df Residuals:                     156   BIC:                             631.9\n",
              "Df Model:                           3                                         \n",
              "Covariance Type:            nonrobust                                         \n",
              "==================================================================================\n",
              "                     coef    std err          t      P>|t|      [0.025      0.975]\n",
              "----------------------------------------------------------------------------------\n",
              "const              4.7141      0.352     13.407      0.000       4.020       5.409\n",
              "Social             0.0545      0.002     34.972      0.000       0.051       0.058\n",
              "Google Adwords     0.1009      0.010     10.470      0.000       0.082       0.120\n",
              "Youtube            0.0043      0.007      0.619      0.537      -0.010       0.018\n",
              "==============================================================================\n",
              "Omnibus:                       13.344   Durbin-Watson:                   2.108\n",
              "Prob(Omnibus):                  0.001   Jarque-Bera (JB):               22.080\n",
              "Skew:                          -0.422   Prob(JB):                     1.60e-05\n",
              "Kurtosis:                       4.613   Cond. No.                         471.\n",
              "==============================================================================\n",
              "\n",
              "Warnings:\n",
              "[1] Standard Errors assume that the covariance matrix of the errors is correctly specified.\n",
              "\"\"\""
            ]
          },
          "metadata": {
            "tags": []
          },
          "execution_count": 15
        }
      ]
    },
    {
      "cell_type": "code",
      "metadata": {
        "id": "-i_AKKOelm36",
        "colab_type": "code",
        "outputId": "dc295600-cc99-48e1-ea03-515e0cea4fd1",
        "colab": {
          "base_uri": "https://localhost:8080/",
          "height": 87
        }
      },
      "source": [
        "#R2 scores\n",
        "print(f'Train score: {r2_score(y_train,lin_model.predict(x_train)):.3f}')\n",
        "print(f'Test score: {r2_score(y_test,lin_model.predict(x_test)):.3f}')\n",
        "#Root MSE Values\n",
        "print(f'Train root mse: {mean_squared_error(y_train, lin_model.predict(x_train))**0.5:.3f}')\n",
        "print(f'Test root mse: {mean_squared_error(y_test, lin_model.predict(x_test))**0.5:.3f}')"
      ],
      "execution_count": 0,
      "outputs": [
        {
          "output_type": "stream",
          "text": [
            "Train score: 0.900\n",
            "Test score: 0.906\n",
            "Train root mse: 1.636\n",
            "Test root mse: 1.705\n"
          ],
          "name": "stdout"
        }
      ]
    },
    {
      "cell_type": "markdown",
      "metadata": {
        "id": "G7YYs8btmKnB",
        "colab_type": "text"
      },
      "source": [
        "## p < 0.05\n",
        "* Google Adwords: 0.10, Social: 0.05"
      ]
    },
    {
      "cell_type": "code",
      "metadata": {
        "id": "lFh9sD33mOm_",
        "colab_type": "code",
        "outputId": "7384295f-02c0-4709-d67b-f302ddf81336",
        "colab": {
          "base_uri": "https://localhost:8080/",
          "height": 461
        }
      },
      "source": [
        "#set variables\n",
        "x = data[['Social','Google Adwords']]\n",
        "y = data['Sales']\n",
        "\n",
        "#add constant\n",
        "x = sm.add_constant(x)\n",
        "\n",
        "#test train split\n",
        "x_train, x_test, y_train, y_test = train_test_split(\n",
        "                                          x, y, test_size = 0.2, random_state = 42\n",
        "                                        )\n",
        "\n",
        "# run model\n",
        "lin_model = sm.OLS(y_train, x_train).fit()\n",
        "\n",
        "lin_model.summary()"
      ],
      "execution_count": 0,
      "outputs": [
        {
          "output_type": "execute_result",
          "data": {
            "text/html": [
              "<table class=\"simpletable\">\n",
              "<caption>OLS Regression Results</caption>\n",
              "<tr>\n",
              "  <th>Dep. Variable:</th>          <td>Sales</td>      <th>  R-squared:         </th> <td>   0.900</td>\n",
              "</tr>\n",
              "<tr>\n",
              "  <th>Model:</th>                   <td>OLS</td>       <th>  Adj. R-squared:    </th> <td>   0.899</td>\n",
              "</tr>\n",
              "<tr>\n",
              "  <th>Method:</th>             <td>Least Squares</td>  <th>  F-statistic:       </th> <td>   705.7</td>\n",
              "</tr>\n",
              "<tr>\n",
              "  <th>Date:</th>             <td>Wed, 06 May 2020</td> <th>  Prob (F-statistic):</th> <td>3.43e-79</td>\n",
              "</tr>\n",
              "<tr>\n",
              "  <th>Time:</th>                 <td>00:48:05</td>     <th>  Log-Likelihood:    </th> <td> -305.98</td>\n",
              "</tr>\n",
              "<tr>\n",
              "  <th>No. Observations:</th>      <td>   160</td>      <th>  AIC:               </th> <td>   618.0</td>\n",
              "</tr>\n",
              "<tr>\n",
              "  <th>Df Residuals:</th>          <td>   157</td>      <th>  BIC:               </th> <td>   627.2</td>\n",
              "</tr>\n",
              "<tr>\n",
              "  <th>Df Model:</th>              <td>     2</td>      <th>                     </th>     <td> </td>   \n",
              "</tr>\n",
              "<tr>\n",
              "  <th>Covariance Type:</th>      <td>nonrobust</td>    <th>                     </th>     <td> </td>   \n",
              "</tr>\n",
              "</table>\n",
              "<table class=\"simpletable\">\n",
              "<tr>\n",
              "         <td></td>           <th>coef</th>     <th>std err</th>      <th>t</th>      <th>P>|t|</th>  <th>[0.025</th>    <th>0.975]</th>  \n",
              "</tr>\n",
              "<tr>\n",
              "  <th>const</th>          <td>    4.7914</td> <td>    0.328</td> <td>   14.606</td> <td> 0.000</td> <td>    4.143</td> <td>    5.439</td>\n",
              "</tr>\n",
              "<tr>\n",
              "  <th>Social</th>         <td>    0.0545</td> <td>    0.002</td> <td>   35.040</td> <td> 0.000</td> <td>    0.051</td> <td>    0.058</td>\n",
              "</tr>\n",
              "<tr>\n",
              "  <th>Google Adwords</th> <td>    0.1033</td> <td>    0.009</td> <td>   11.641</td> <td> 0.000</td> <td>    0.086</td> <td>    0.121</td>\n",
              "</tr>\n",
              "</table>\n",
              "<table class=\"simpletable\">\n",
              "<tr>\n",
              "  <th>Omnibus:</th>       <td>15.269</td> <th>  Durbin-Watson:     </th> <td>   2.103</td>\n",
              "</tr>\n",
              "<tr>\n",
              "  <th>Prob(Omnibus):</th> <td> 0.000</td> <th>  Jarque-Bera (JB):  </th> <td>  26.509</td>\n",
              "</tr>\n",
              "<tr>\n",
              "  <th>Skew:</th>          <td>-0.468</td> <th>  Prob(JB):          </th> <td>1.75e-06</td>\n",
              "</tr>\n",
              "<tr>\n",
              "  <th>Kurtosis:</th>      <td> 4.760</td> <th>  Cond. No.          </th> <td>    435.</td>\n",
              "</tr>\n",
              "</table><br/><br/>Warnings:<br/>[1] Standard Errors assume that the covariance matrix of the errors is correctly specified."
            ],
            "text/plain": [
              "<class 'statsmodels.iolib.summary.Summary'>\n",
              "\"\"\"\n",
              "                            OLS Regression Results                            \n",
              "==============================================================================\n",
              "Dep. Variable:                  Sales   R-squared:                       0.900\n",
              "Model:                            OLS   Adj. R-squared:                  0.899\n",
              "Method:                 Least Squares   F-statistic:                     705.7\n",
              "Date:                Wed, 06 May 2020   Prob (F-statistic):           3.43e-79\n",
              "Time:                        00:48:05   Log-Likelihood:                -305.98\n",
              "No. Observations:                 160   AIC:                             618.0\n",
              "Df Residuals:                     157   BIC:                             627.2\n",
              "Df Model:                           2                                         \n",
              "Covariance Type:            nonrobust                                         \n",
              "==================================================================================\n",
              "                     coef    std err          t      P>|t|      [0.025      0.975]\n",
              "----------------------------------------------------------------------------------\n",
              "const              4.7914      0.328     14.606      0.000       4.143       5.439\n",
              "Social             0.0545      0.002     35.040      0.000       0.051       0.058\n",
              "Google Adwords     0.1033      0.009     11.641      0.000       0.086       0.121\n",
              "==============================================================================\n",
              "Omnibus:                       15.269   Durbin-Watson:                   2.103\n",
              "Prob(Omnibus):                  0.000   Jarque-Bera (JB):               26.509\n",
              "Skew:                          -0.468   Prob(JB):                     1.75e-06\n",
              "Kurtosis:                       4.760   Cond. No.                         435.\n",
              "==============================================================================\n",
              "\n",
              "Warnings:\n",
              "[1] Standard Errors assume that the covariance matrix of the errors is correctly specified.\n",
              "\"\"\""
            ]
          },
          "metadata": {
            "tags": []
          },
          "execution_count": 17
        }
      ]
    },
    {
      "cell_type": "code",
      "metadata": {
        "id": "2QQI1T4wmnei",
        "colab_type": "code",
        "outputId": "948d27d9-4d5e-4837-c1d3-34ecac2ef0e7",
        "colab": {
          "base_uri": "https://localhost:8080/",
          "height": 87
        }
      },
      "source": [
        "#R2 scores\n",
        "print(f'Train score: {r2_score(y_train,lin_model.predict(x_train)):.3f}')\n",
        "print(f'Test score: {r2_score(y_test,lin_model.predict(x_test)):.3f}')\n",
        "#Root MSE Values\n",
        "print(f'Train root mse: {mean_squared_error(y_train, lin_model.predict(x_train))**0.5:.3f}')\n",
        "print(f'Test root mse: {mean_squared_error(y_test, lin_model.predict(x_test))**0.5:.3f}')"
      ],
      "execution_count": 0,
      "outputs": [
        {
          "output_type": "stream",
          "text": [
            "Train score: 0.900\n",
            "Test score: 0.908\n",
            "Train root mse: 1.638\n",
            "Test root mse: 1.687\n"
          ],
          "name": "stdout"
        }
      ]
    },
    {
      "cell_type": "code",
      "metadata": {
        "id": "a0P_2gl44pbP",
        "colab_type": "code",
        "outputId": "4118c603-83d6-4dbd-d6f7-7bd522271fff",
        "colab": {
          "base_uri": "https://localhost:8080/",
          "height": 52
        }
      },
      "source": [
        "y_pred = lin_model.predict(x_test)\n",
        "print(y_pred.mean())\n",
        "print(data['Sales'].mean())"
      ],
      "execution_count": 0,
      "outputs": [
        {
          "output_type": "stream",
          "text": [
            "14.719830412384088\n",
            "15.130500000000005\n"
          ],
          "name": "stdout"
        }
      ]
    },
    {
      "cell_type": "code",
      "metadata": {
        "id": "sj5G5vST7hjX",
        "colab_type": "code",
        "colab": {}
      },
      "source": [
        "def show_values_on_bars(axs, h_v=\"v\", space=0.4):\n",
        "    def _show_on_single_plot(ax):\n",
        "        if h_v == \"v\":\n",
        "            for p in ax.patches:\n",
        "                _x = p.get_x() + p.get_width() / 2\n",
        "                _y = p.get_y() + p.get_height()\n",
        "                value = float(p.get_height().round(2))\n",
        "                ax.text(_x, _y, value, ha=\"center\")\n",
        "        elif h_v == \"h\":\n",
        "            for p in ax.patches:\n",
        "                _x = p.get_x() + p.get_width() + float(space)\n",
        "                _y = p.get_y() + p.get_height()\n",
        "                value = float(p.get_width().round(2))\n",
        "                ax.text(_x, _y, value, ha=\"left\", va=\"bottom\")\n",
        "\n",
        "    if isinstance(axs, np.ndarray):\n",
        "        for idx, ax in np.ndenumerate(axs):\n",
        "            _show_on_single_plot(ax)\n",
        "    else:\n",
        "        _show_on_single_plot(axs)"
      ],
      "execution_count": 0,
      "outputs": []
    },
    {
      "cell_type": "code",
      "metadata": {
        "id": "JQGxuMiQ6YnE",
        "colab_type": "code",
        "outputId": "808b07ae-3bd3-41e9-a465-b8bd227670dc",
        "colab": {
          "base_uri": "https://localhost:8080/",
          "height": 336
        }
      },
      "source": [
        "fig, ax = plt.subplots(1,1, figsize=(5,5))\n",
        "sns.barplot(lin_model.params.abs(), lin_model.params.index,ax=ax)\n",
        "show_values_on_bars(ax, \"h\", 0)\n",
        "\n",
        "plt.title('Absolute impact of variables on Sales')\n",
        "plt.show()"
      ],
      "execution_count": 0,
      "outputs": [
        {
          "output_type": "display_data",
          "data": {
            "image/png": "[encoded data removed]",
            "text/plain": [
              "<Figure size 360x360 with 1 Axes>"
            ]
          },
          "metadata": {
            "tags": [],
            "needs_background": "light"
          }
        }
      ]
    },
    {
      "cell_type": "markdown",
      "metadata": {
        "id": "fKWB-WJ6989B",
        "colab_type": "text"
      },
      "source": [
        "## With Scaler\n",
        "* Google Adwords: 0.29, Social: 0.89, Youtube: 0.02 (insignificant)"
      ]
    },
    {
      "cell_type": "code",
      "metadata": {
        "id": "dlfzTgVZ9902",
        "colab_type": "code",
        "outputId": "c07c8038-8105-42eb-9738-f3e5e5ab2e06",
        "colab": {
          "base_uri": "https://localhost:8080/"
        }
      },
      "source": [
        "#set variables\n",
        "x = data[['Social','Google Adwords','Youtube']]\n",
        "y = data['Sales']\n",
        "\n",
        "#test train split\n",
        "x_train, x_test, y_train, y_test = train_test_split(\n",
        "                                          x, y, test_size = 0.2, random_state = 42\n",
        "                                        )\n",
        "\n",
        "# create a standard scaler for each variable and variable partition\n",
        "for col in x_train.columns:\n",
        "  ss_x_train = StandardScaler()\n",
        "  x_train[col] = ss_x_train.fit_transform(np.array(x_train[col]).reshape(-1,1))\n",
        "\n",
        "  ss_x_test = StandardScaler()\n",
        "  x_test[col] = ss_x_test.fit_transform(np.array(x_test[col]).reshape(-1,1))\n",
        "\n",
        "# fit the fit_transform train set\n",
        "ss_y_train = StandardScaler()\n",
        "y_train = ss_y_train.fit_transform(np.array(y_train).reshape(-1,1))\n",
        "\n",
        "#fit the fit_transform test set\n",
        "ss_y_test = StandardScaler()\n",
        "y_test = ss_y_test.fit_transform(np.array(y_test).reshape(-1,1))\n",
        "\n",
        "#add constant to train and test x\n",
        "x_train = sm.add_constant(x_train)\n",
        "x_test = sm.add_constant(x_test)\n",
        "\n",
        "# run model\n",
        "lin_model = sm.OLS(y_train, x_train).fit()\n",
        "\n",
        "lin_model.summary()"
      ],
      "execution_count": 0,
      "outputs": [
        {
          "output_type": "stream",
          "text": [
            "/usr/local/lib/python3.6/dist-packages/ipykernel_launcher.py:12: SettingWithCopyWarning: \n",
            "A value is trying to be set on a copy of a slice from a DataFrame.\n",
            "Try using .loc[row_indexer,col_indexer] = value instead\n",
            "\n",
            "See the caveats in the documentation: https://pandas.pydata.org/pandas-docs/stable/user_guide/indexing.html#returning-a-view-versus-a-copy\n",
            "  if sys.path[0] == '':\n",
            "/usr/local/lib/python3.6/dist-packages/ipykernel_launcher.py:15: SettingWithCopyWarning: \n",
            "A value is trying to be set on a copy of a slice from a DataFrame.\n",
            "Try using .loc[row_indexer,col_indexer] = value instead\n",
            "\n",
            "See the caveats in the documentation: https://pandas.pydata.org/pandas-docs/stable/user_guide/indexing.html#returning-a-view-versus-a-copy\n",
            "  from ipykernel import kernelapp as app\n",
            "/usr/local/lib/python3.6/dist-packages/ipykernel_launcher.py:12: SettingWithCopyWarning: \n",
            "A value is trying to be set on a copy of a slice from a DataFrame.\n",
            "Try using .loc[row_indexer,col_indexer] = value instead\n",
            "\n",
            "See the caveats in the documentation: https://pandas.pydata.org/pandas-docs/stable/user_guide/indexing.html#returning-a-view-versus-a-copy\n",
            "  if sys.path[0] == '':\n",
            "/usr/local/lib/python3.6/dist-packages/ipykernel_launcher.py:15: SettingWithCopyWarning: \n",
            "A value is trying to be set on a copy of a slice from a DataFrame.\n",
            "Try using .loc[row_indexer,col_indexer] = value instead\n",
            "\n",
            "See the caveats in the documentation: https://pandas.pydata.org/pandas-docs/stable/user_guide/indexing.html#returning-a-view-versus-a-copy\n",
            "  from ipykernel import kernelapp as app\n",
            "/usr/local/lib/python3.6/dist-packages/ipykernel_launcher.py:12: SettingWithCopyWarning: \n",
            "A value is trying to be set on a copy of a slice from a DataFrame.\n",
            "Try using .loc[row_indexer,col_indexer] = value instead\n",
            "\n",
            "See the caveats in the documentation: https://pandas.pydata.org/pandas-docs/stable/user_guide/indexing.html#returning-a-view-versus-a-copy\n",
            "  if sys.path[0] == '':\n",
            "/usr/local/lib/python3.6/dist-packages/ipykernel_launcher.py:15: SettingWithCopyWarning: \n",
            "A value is trying to be set on a copy of a slice from a DataFrame.\n",
            "Try using .loc[row_indexer,col_indexer] = value instead\n",
            "\n",
            "See the caveats in the documentation: https://pandas.pydata.org/pandas-docs/stable/user_guide/indexing.html#returning-a-view-versus-a-copy\n",
            "  from ipykernel import kernelapp as app\n"
          ],
          "name": "stderr"
        },
        {
          "output_type": "execute_result",
          "data": {
            "text/html": [
              "<table class=\"simpletable\">\n",
              "<caption>OLS Regression Results</caption>\n",
              "<tr>\n",
              "  <th>Dep. Variable:</th>            <td>y</td>        <th>  R-squared:         </th> <td>   0.900</td>\n",
              "</tr>\n",
              "<tr>\n",
              "  <th>Model:</th>                   <td>OLS</td>       <th>  Adj. R-squared:    </th> <td>   0.898</td>\n",
              "</tr>\n",
              "<tr>\n",
              "  <th>Method:</th>             <td>Least Squares</td>  <th>  F-statistic:       </th> <td>   468.7</td>\n",
              "</tr>\n",
              "<tr>\n",
              "  <th>Date:</th>             <td>Wed, 06 May 2020</td> <th>  Prob (F-statistic):</th> <td>8.51e-78</td>\n",
              "</tr>\n",
              "<tr>\n",
              "  <th>Time:</th>                 <td>00:48:05</td>     <th>  Log-Likelihood:    </th> <td> -42.710</td>\n",
              "</tr>\n",
              "<tr>\n",
              "  <th>No. Observations:</th>      <td>   160</td>      <th>  AIC:               </th> <td>   93.42</td>\n",
              "</tr>\n",
              "<tr>\n",
              "  <th>Df Residuals:</th>          <td>   156</td>      <th>  BIC:               </th> <td>   105.7</td>\n",
              "</tr>\n",
              "<tr>\n",
              "  <th>Df Model:</th>              <td>     3</td>      <th>                     </th>     <td> </td>   \n",
              "</tr>\n",
              "<tr>\n",
              "  <th>Covariance Type:</th>      <td>nonrobust</td>    <th>                     </th>     <td> </td>   \n",
              "</tr>\n",
              "</table>\n",
              "<table class=\"simpletable\">\n",
              "<tr>\n",
              "         <td></td>           <th>coef</th>     <th>std err</th>      <th>t</th>      <th>P>|t|</th>  <th>[0.025</th>    <th>0.975]</th>  \n",
              "</tr>\n",
              "<tr>\n",
              "  <th>const</th>          <td>-2.429e-16</td> <td>    0.025</td> <td> -9.6e-15</td> <td> 1.000</td> <td>   -0.050</td> <td>    0.050</td>\n",
              "</tr>\n",
              "<tr>\n",
              "  <th>Social</th>         <td>    0.8861</td> <td>    0.025</td> <td>   34.972</td> <td> 0.000</td> <td>    0.836</td> <td>    0.936</td>\n",
              "</tr>\n",
              "<tr>\n",
              "  <th>Google Adwords</th> <td>    0.2878</td> <td>    0.027</td> <td>   10.470</td> <td> 0.000</td> <td>    0.233</td> <td>    0.342</td>\n",
              "</tr>\n",
              "<tr>\n",
              "  <th>Youtube</th>        <td>    0.0170</td> <td>    0.027</td> <td>    0.619</td> <td> 0.537</td> <td>   -0.037</td> <td>    0.071</td>\n",
              "</tr>\n",
              "</table>\n",
              "<table class=\"simpletable\">\n",
              "<tr>\n",
              "  <th>Omnibus:</th>       <td>13.344</td> <th>  Durbin-Watson:     </th> <td>   2.108</td>\n",
              "</tr>\n",
              "<tr>\n",
              "  <th>Prob(Omnibus):</th> <td> 0.001</td> <th>  Jarque-Bera (JB):  </th> <td>  22.080</td>\n",
              "</tr>\n",
              "<tr>\n",
              "  <th>Skew:</th>          <td>-0.422</td> <th>  Prob(JB):          </th> <td>1.60e-05</td>\n",
              "</tr>\n",
              "<tr>\n",
              "  <th>Kurtosis:</th>      <td> 4.613</td> <th>  Cond. No.          </th> <td>    1.51</td>\n",
              "</tr>\n",
              "</table><br/><br/>Warnings:<br/>[1] Standard Errors assume that the covariance matrix of the errors is correctly specified."
            ],
            "text/plain": [
              "<class 'statsmodels.iolib.summary.Summary'>\n",
              "\"\"\"\n",
              "                            OLS Regression Results                            \n",
              "==============================================================================\n",
              "Dep. Variable:                      y   R-squared:                       0.900\n",
              "Model:                            OLS   Adj. R-squared:                  0.898\n",
              "Method:                 Least Squares   F-statistic:                     468.7\n",
              "Date:                Wed, 06 May 2020   Prob (F-statistic):           8.51e-78\n",
              "Time:                        00:48:05   Log-Likelihood:                -42.710\n",
              "No. Observations:                 160   AIC:                             93.42\n",
              "Df Residuals:                     156   BIC:                             105.7\n",
              "Df Model:                           3                                         \n",
              "Covariance Type:            nonrobust                                         \n",
              "==================================================================================\n",
              "                     coef    std err          t      P>|t|      [0.025      0.975]\n",
              "----------------------------------------------------------------------------------\n",
              "const          -2.429e-16      0.025   -9.6e-15      1.000      -0.050       0.050\n",
              "Social             0.8861      0.025     34.972      0.000       0.836       0.936\n",
              "Google Adwords     0.2878      0.027     10.470      0.000       0.233       0.342\n",
              "Youtube            0.0170      0.027      0.619      0.537      -0.037       0.071\n",
              "==============================================================================\n",
              "Omnibus:                       13.344   Durbin-Watson:                   2.108\n",
              "Prob(Omnibus):                  0.001   Jarque-Bera (JB):               22.080\n",
              "Skew:                          -0.422   Prob(JB):                     1.60e-05\n",
              "Kurtosis:                       4.613   Cond. No.                         1.51\n",
              "==============================================================================\n",
              "\n",
              "Warnings:\n",
              "[1] Standard Errors assume that the covariance matrix of the errors is correctly specified.\n",
              "\"\"\""
            ]
          },
          "metadata": {
            "tags": []
          },
          "execution_count": 22
        }
      ]
    },
    {
      "cell_type": "code",
      "metadata": {
        "id": "-rqf5a7N-WMJ",
        "colab_type": "code",
        "outputId": "63b07dc0-57e2-4179-f46d-a87a24b13978",
        "colab": {
          "base_uri": "https://localhost:8080/"
        }
      },
      "source": [
        "#R2 scores\n",
        "print(f'Train score: {r2_score(y_train,lin_model.predict(x_train)):.3f}')\n",
        "print(f'Test score: {r2_score(y_test,lin_model.predict(x_test)):.3f}')\n",
        "#Root MSE Values\n",
        "print(f'Train root mse: {mean_squared_error(y_train, lin_model.predict(x_train))**0.5:.3f}')\n",
        "print(f'Test root mse: {mean_squared_error(y_test, lin_model.predict(x_test))**0.5:.3f}')"
      ],
      "execution_count": 0,
      "outputs": [
        {
          "output_type": "stream",
          "text": [
            "Train score: 0.900\n",
            "Test score: 0.913\n",
            "Train root mse: 0.316\n",
            "Test root mse: 0.295\n"
          ],
          "name": "stdout"
        }
      ]
    },
    {
      "cell_type": "code",
      "metadata": {
        "id": "fRPxsKQn-WAM",
        "colab_type": "code",
        "outputId": "5a9a0ac9-a686-4936-8e2c-5c5d6d61aa74",
        "colab": {
          "base_uri": "https://localhost:8080/"
        }
      },
      "source": [
        "y_prediction_test = lin_model.predict(x_test)\n",
        "y_pred = ss_y_test.inverse_transform(y_prediction_test)\n",
        "print(y_pred.mean())\n",
        "print(data['Sales'].mean())"
      ],
      "execution_count": 0,
      "outputs": [
        {
          "output_type": "stream",
          "text": [
            "14.330000000000002\n",
            "15.130500000000005\n"
          ],
          "name": "stdout"
        }
      ]
    },
    {
      "cell_type": "code",
      "metadata": {
        "id": "mHvXAiR_-oXR",
        "colab_type": "code",
        "outputId": "84bae23a-e97a-4150-9cd1-d4b459c9c428",
        "colab": {
          "base_uri": "https://localhost:8080/"
        }
      },
      "source": [
        "fig, ax = plt.subplots(1,1, figsize=(5,5))\n",
        "sns.barplot(lin_model.params.abs(), lin_model.params.index,ax=ax)\n",
        "show_values_on_bars(ax, \"h\", 0)\n",
        "\n",
        "plt.title('Absolute impact of variables on Sales')\n",
        "plt.show()"
      ],
      "execution_count": 0,
      "outputs": [
        {
          "output_type": "display_data",
          "data": {
            "image/png": "[encoded data removed]",
            "text/plain": [
              "<Figure size 360x360 with 1 Axes>"
            ]
          },
          "metadata": {
            "tags": [],
            "needs_background": "light"
          }
        }
      ]
    },
    {
      "cell_type": "markdown",
      "metadata": {
        "id": "qlijt7eCagMA",
        "colab_type": "text"
      },
      "source": [
        "#Ridge Regression\n",
        "* The Ridge regression gives about the same results for the coefficients as the OLS Regression. (5 cents per Dollar for Social and 10 cents per Dollar on Google Adwords)"
      ]
    },
    {
      "cell_type": "code",
      "metadata": {
        "id": "chzkXqjZGg5J",
        "colab_type": "code",
        "colab": {}
      },
      "source": [
        "#Set the variable\n",
        "x = data.drop(columns = ['Day','Sales'])\n",
        "y = data['Sales']\n",
        "\n",
        "#test_train_split\n",
        "x_train, x_test, y_train, y_test = train_test_split(x,\n",
        "                                                  y,\n",
        "                                                  test_size = 0.2,\n",
        "                                                  random_state = 12)\n",
        "\n",
        "#set alpha range\n",
        "# alpha_range = [np.power(10,float(number)) for number in range(-5,6)]\n",
        "alpha_range = range(800,1200)"
      ],
      "execution_count": 0,
      "outputs": []
    },
    {
      "cell_type": "code",
      "metadata": {
        "id": "_h9d8xw1SB6S",
        "colab_type": "code",
        "colab": {}
      },
      "source": [
        "mydict = {}\n",
        "s = []\n",
        "\n",
        "for alpha_num in alpha_range:\n",
        "  #create ridge model object\n",
        "  ridge_cv_model = Ridge(alpha = alpha_num)\n",
        "  \n",
        "  #set up cross validation\n",
        "  ridge_cv_scores = cross_validate(ridge_cv_model,\n",
        "                                    x_train,\n",
        "                                    y_train,\n",
        "                                    cv = 10,\n",
        "                                    scoring=('r2','neg_mean_squared_error'))\n",
        "  \n",
        "  #get the mean of scores\n",
        "  r2_cv_mean = ridge_cv_scores['test_r2'].mean()\n",
        "  mse_cv_mean = ridge_cv_scores['test_neg_mean_squared_error'].mean()\n",
        "\n",
        "  mydict[f'{alpha_num}'] = (r2_cv_mean, mse_cv_mean)\n",
        "\n",
        "  s.append(r2_cv_mean)"
      ],
      "execution_count": 0,
      "outputs": []
    },
    {
      "cell_type": "code",
      "metadata": {
        "id": "rJnlv8iuYJdn",
        "colab_type": "code",
        "outputId": "701a81ce-840d-45fc-ca6b-3c683b7984f0",
        "colab": {
          "base_uri": "https://localhost:8080/",
          "height": 35
        }
      },
      "source": [
        "alpha_range[np.argmax(s)]"
      ],
      "execution_count": 0,
      "outputs": [
        {
          "output_type": "execute_result",
          "data": {
            "text/plain": [
              "929"
            ]
          },
          "metadata": {
            "tags": []
          },
          "execution_count": 28
        }
      ]
    },
    {
      "cell_type": "code",
      "metadata": {
        "id": "30ZQwOaSYKzY",
        "colab_type": "code",
        "outputId": "a1bf1c88-3627-4272-e0ab-6c52c5eabc09",
        "colab": {
          "base_uri": "https://localhost:8080/",
          "height": 69
        }
      },
      "source": [
        "import pprint\n",
        "pp = pprint.PrettyPrinter()\n",
        "\n",
        "estimator = Ridge(alpha_range[np.argmax(s)])\n",
        "estimator.fit(x_train,y_train)\n",
        "pp.pprint(list(zip(x.columns,estimator.coef_)))"
      ],
      "execution_count": 0,
      "outputs": [
        {
          "output_type": "stream",
          "text": [
            "[('Social', 0.052833434891692885),\n",
            " ('Google Adwords', 0.10850394999491057),\n",
            " ('Youtube', -0.00163926778215364)]\n"
          ],
          "name": "stdout"
        }
      ]
    },
    {
      "cell_type": "code",
      "metadata": {
        "id": "a1GYSrbnV-6k",
        "colab_type": "code",
        "colab": {}
      },
      "source": [
        ""
      ],
      "execution_count": 0,
      "outputs": []
    }
  ]
}