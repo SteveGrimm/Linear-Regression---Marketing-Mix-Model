{
  "nbformat": 4,
  "nbformat_minor": 0,
  "metadata": {
    "colab": {
      "name": "Project3.ipynb",
      "provenance": [],
      "collapsed_sections": [
        "dRYvTS8S4aOV",
        "FcRgwjb_lFT5",
        "byB-MiTXmGQC",
        "G7YYs8btmKnB",
        "fKWB-WJ6989B",
        "qlijt7eCagMA"
      ]
    },
    "kernelspec": {
      "name": "python3",
      "display_name": "Python 3"
    }
  },
  "cells": [
    {
      "cell_type": "markdown",
      "metadata": {
        "id": "dRYvTS8S4aOV",
        "colab_type": "text"
      },
      "source": [
        "#Data Import"
      ]
    },
    {
      "cell_type": "code",
      "metadata": {
        "id": "j9WwRMwy2f5M",
        "colab_type": "code",
        "colab": {}
      },
      "source": [
        "import pandas as pd\n",
        "import numpy as np\n",
        "import matplotlib.pyplot as plt"
      ],
      "execution_count": 0,
      "outputs": []
    },
    {
      "cell_type": "code",
      "metadata": {
        "id": "JWWc5t6D2-tV",
        "colab_type": "code",
        "colab": {}
      },
      "source": [
        "import statsmodels.api as sm\n",
        "import seaborn as sns\n",
        "from sklearn.model_selection import train_test_split, cross_validate\n",
        "from sklearn.metrics import r2_score, mean_squared_error\n",
        "from sklearn.preprocessing import StandardScaler\n",
        "\n",
        "from sklearn.linear_model import Ridge"
      ],
      "execution_count": 0,
      "outputs": []
    },
    {
      "cell_type": "code",
      "metadata": {
        "id": "mWJZDa8P3FSX",
        "colab_type": "code",
        "colab": {}
      },
      "source": [
        "from sklearn.pipeline import Pipeline\n",
        "import pprint\n",
        "pp = pprint.PrettyPrinter()"
      ],
      "execution_count": 0,
      "outputs": []
    },
    {
      "cell_type": "code",
      "metadata": {
        "id": "tGYobMhv3aCg",
        "colab_type": "code",
        "outputId": "b198f723-2251-4355-9e45-1baae3bbb0cb",
        "colab": {
          "base_uri": "https://localhost:8080/",
          "height": 55
        }
      },
      "source": [
        "from google.colab import drive\n",
        "drive.mount('/content/Drive')"
      ],
      "execution_count": 0,
      "outputs": [
        {
          "output_type": "stream",
          "text": [
            "Drive already mounted at /content/Drive; to attempt to forcibly remount, call drive.mount(\"/content/Drive\", force_remount=True).\n"
          ],
          "name": "stdout"
        }
      ]
    },
    {
      "cell_type": "code",
      "metadata": {
        "id": "fHHFkJto3d72",
        "colab_type": "code",
        "colab": {}
      },
      "source": [
        "data = pd.read_csv('/content/Drive/My Drive/Colab Notebooks/Project3/advertising.csv')"
      ],
      "execution_count": 0,
      "outputs": []
    },
    {
      "cell_type": "markdown",
      "metadata": {
        "id": "GYmQdw1n3sh0",
        "colab_type": "text"
      },
      "source": [
        "#Data Exploration\n",
        "\n",
        "* Channel selection: Youtube does not seem to have an impact on Sales"
      ]
    },
    {
      "cell_type": "code",
      "metadata": {
        "id": "6A9G15A84jn5",
        "colab_type": "code",
        "outputId": "2b19319b-9fa8-4a76-99e2-05f30c9abe19",
        "colab": {
          "base_uri": "https://localhost:8080/",
          "height": 415
        }
      },
      "source": [
        "data"
      ],
      "execution_count": 0,
      "outputs": [
        {
          "output_type": "execute_result",
          "data": {
            "text/html": [
              "<div>\n",
              "<style scoped>\n",
              "    .dataframe tbody tr th:only-of-type {\n",
              "        vertical-align: middle;\n",
              "    }\n",
              "\n",
              "    .dataframe tbody tr th {\n",
              "        vertical-align: top;\n",
              "    }\n",
              "\n",
              "    .dataframe thead th {\n",
              "        text-align: right;\n",
              "    }\n",
              "</style>\n",
              "<table border=\"1\" class=\"dataframe\">\n",
              "  <thead>\n",
              "    <tr style=\"text-align: right;\">\n",
              "      <th></th>\n",
              "      <th>Day</th>\n",
              "      <th>Social</th>\n",
              "      <th>Google Adwords</th>\n",
              "      <th>Youtube</th>\n",
              "      <th>Sales</th>\n",
              "    </tr>\n",
              "  </thead>\n",
              "  <tbody>\n",
              "    <tr>\n",
              "      <th>0</th>\n",
              "      <td>1</td>\n",
              "      <td>230.1</td>\n",
              "      <td>37.8</td>\n",
              "      <td>69.2</td>\n",
              "      <td>22.1</td>\n",
              "    </tr>\n",
              "    <tr>\n",
              "      <th>1</th>\n",
              "      <td>2</td>\n",
              "      <td>44.5</td>\n",
              "      <td>39.3</td>\n",
              "      <td>45.1</td>\n",
              "      <td>10.4</td>\n",
              "    </tr>\n",
              "    <tr>\n",
              "      <th>2</th>\n",
              "      <td>3</td>\n",
              "      <td>17.2</td>\n",
              "      <td>45.9</td>\n",
              "      <td>69.3</td>\n",
              "      <td>12.0</td>\n",
              "    </tr>\n",
              "    <tr>\n",
              "      <th>3</th>\n",
              "      <td>4</td>\n",
              "      <td>151.5</td>\n",
              "      <td>41.3</td>\n",
              "      <td>58.5</td>\n",
              "      <td>16.5</td>\n",
              "    </tr>\n",
              "    <tr>\n",
              "      <th>4</th>\n",
              "      <td>5</td>\n",
              "      <td>180.8</td>\n",
              "      <td>10.8</td>\n",
              "      <td>58.4</td>\n",
              "      <td>17.9</td>\n",
              "    </tr>\n",
              "    <tr>\n",
              "      <th>...</th>\n",
              "      <td>...</td>\n",
              "      <td>...</td>\n",
              "      <td>...</td>\n",
              "      <td>...</td>\n",
              "      <td>...</td>\n",
              "    </tr>\n",
              "    <tr>\n",
              "      <th>195</th>\n",
              "      <td>196</td>\n",
              "      <td>38.2</td>\n",
              "      <td>3.7</td>\n",
              "      <td>13.8</td>\n",
              "      <td>7.6</td>\n",
              "    </tr>\n",
              "    <tr>\n",
              "      <th>196</th>\n",
              "      <td>197</td>\n",
              "      <td>94.2</td>\n",
              "      <td>4.9</td>\n",
              "      <td>8.1</td>\n",
              "      <td>14.0</td>\n",
              "    </tr>\n",
              "    <tr>\n",
              "      <th>197</th>\n",
              "      <td>198</td>\n",
              "      <td>177.0</td>\n",
              "      <td>9.3</td>\n",
              "      <td>6.4</td>\n",
              "      <td>14.8</td>\n",
              "    </tr>\n",
              "    <tr>\n",
              "      <th>198</th>\n",
              "      <td>199</td>\n",
              "      <td>283.6</td>\n",
              "      <td>42.0</td>\n",
              "      <td>66.2</td>\n",
              "      <td>25.5</td>\n",
              "    </tr>\n",
              "    <tr>\n",
              "      <th>199</th>\n",
              "      <td>200</td>\n",
              "      <td>232.1</td>\n",
              "      <td>8.6</td>\n",
              "      <td>8.7</td>\n",
              "      <td>18.4</td>\n",
              "    </tr>\n",
              "  </tbody>\n",
              "</table>\n",
              "<p>200 rows × 5 columns</p>\n",
              "</div>"
            ],
            "text/plain": [
              "     Day  Social  Google Adwords  Youtube  Sales\n",
              "0      1   230.1            37.8     69.2   22.1\n",
              "1      2    44.5            39.3     45.1   10.4\n",
              "2      3    17.2            45.9     69.3   12.0\n",
              "3      4   151.5            41.3     58.5   16.5\n",
              "4      5   180.8            10.8     58.4   17.9\n",
              "..   ...     ...             ...      ...    ...\n",
              "195  196    38.2             3.7     13.8    7.6\n",
              "196  197    94.2             4.9      8.1   14.0\n",
              "197  198   177.0             9.3      6.4   14.8\n",
              "198  199   283.6            42.0     66.2   25.5\n",
              "199  200   232.1             8.6      8.7   18.4\n",
              "\n",
              "[200 rows x 5 columns]"
            ]
          },
          "metadata": {
            "tags": []
          },
          "execution_count": 76
        }
      ]
    },
    {
      "cell_type": "code",
      "metadata": {
        "id": "79oV9Rjl4n7K",
        "colab_type": "code",
        "outputId": "8bebe797-a1f7-4b82-c88d-236a0ed0ebd4",
        "colab": {
          "base_uri": "https://localhost:8080/",
          "height": 121
        }
      },
      "source": [
        "data.dtypes"
      ],
      "execution_count": 0,
      "outputs": [
        {
          "output_type": "execute_result",
          "data": {
            "text/plain": [
              "Day                 int64\n",
              "Social            float64\n",
              "Google Adwords    float64\n",
              "Youtube           float64\n",
              "Sales             float64\n",
              "dtype: object"
            ]
          },
          "metadata": {
            "tags": []
          },
          "execution_count": 77
        }
      ]
    },
    {
      "cell_type": "code",
      "metadata": {
        "id": "Vf_TncBsWKzJ",
        "colab_type": "code",
        "outputId": "f52715b8-4907-41d0-d6b6-be2ae27dc219",
        "colab": {
          "base_uri": "https://localhost:8080/",
          "height": 121
        }
      },
      "source": [
        "data.isnull().sum()"
      ],
      "execution_count": 0,
      "outputs": [
        {
          "output_type": "execute_result",
          "data": {
            "text/plain": [
              "Day               0\n",
              "Social            0\n",
              "Google Adwords    0\n",
              "Youtube           0\n",
              "Sales             0\n",
              "dtype: int64"
            ]
          },
          "metadata": {
            "tags": []
          },
          "execution_count": 78
        }
      ]
    },
    {
      "cell_type": "code",
      "metadata": {
        "id": "thc1L269WO_s",
        "colab_type": "code",
        "outputId": "50b63a19-6b3d-4cc0-d4d0-bcde9dd9b0b4",
        "colab": {
          "base_uri": "https://localhost:8080/",
          "height": 121
        }
      },
      "source": [
        "data.corr()['Sales']"
      ],
      "execution_count": 0,
      "outputs": [
        {
          "output_type": "execute_result",
          "data": {
            "text/plain": [
              "Day              -0.021306\n",
              "Social            0.901208\n",
              "Google Adwords    0.349631\n",
              "Youtube           0.157960\n",
              "Sales             1.000000\n",
              "Name: Sales, dtype: float64"
            ]
          },
          "metadata": {
            "tags": []
          },
          "execution_count": 79
        }
      ]
    },
    {
      "cell_type": "markdown",
      "metadata": {
        "id": "jDe6Ej1SZr2T",
        "colab_type": "text"
      },
      "source": [
        "We would drop `Day` and `Youtube`, as the have a low correlation (<0.2) with `Sales`, however wie will keep both for now, due to the low amount of variables overall."
      ]
    },
    {
      "cell_type": "code",
      "metadata": {
        "id": "MF6qTdvmW9eC",
        "colab_type": "code",
        "outputId": "ae4447ef-0687-44e2-c8be-dcf0a0251927",
        "colab": {
          "base_uri": "https://localhost:8080/",
          "height": 247
        }
      },
      "source": [
        "fig, axs = plt.subplots(1,5, figsize=(15,3),sharey=True)\n",
        "\n",
        "for column, ax in zip(data.columns, axs.flatten()[:5]):\n",
        "  sns.distplot(data[column],ax=ax)\n",
        "\n",
        "plt.suptitle('Distribution of Variables')\n",
        "plt.show()"
      ],
      "execution_count": 0,
      "outputs": [
        {
          "output_type": "display_data",
          "data": {
            "image/png": "[encoded data removed]",
            "text/plain": [
              "<Figure size 1080x216 with 5 Axes>"
            ]
          },
          "metadata": {
            "tags": [],
            "needs_background": "light"
          }
        }
      ]
    },
    {
      "cell_type": "code",
      "metadata": {
        "id": "lau0terxXKjB",
        "colab_type": "code",
        "outputId": "5a6563af-ab6d-45e5-c8f7-3cc572d77a98",
        "colab": {
          "base_uri": "https://localhost:8080/",
          "height": 104
        }
      },
      "source": [
        "for column in data.columns:\n",
        "  print(f'{column}: {data[column].quantile(0.99)}, {data[column].max()}')"
      ],
      "execution_count": 0,
      "outputs": [
        {
          "output_type": "stream",
          "text": [
            "Day: 198.01, 200\n",
            "Social: 292.9069999999999, 296.4\n",
            "Google Adwords: 49.4, 49.6\n",
            "Youtube: 89.5149999999999, 114.0\n",
            "Sales: 25.506999999999994, 27.0\n"
          ],
          "name": "stdout"
        }
      ]
    },
    {
      "cell_type": "markdown",
      "metadata": {
        "id": "tzKp-W6OYP5Y",
        "colab_type": "text"
      },
      "source": [
        "The only variable with noticable outliers is Youtube, but the difference between the 99th percentile and the max seems acceptable."
      ]
    },
    {
      "cell_type": "code",
      "metadata": {
        "id": "Np9-x_PcXe5g",
        "colab_type": "code",
        "outputId": "6bc92860-49ec-479b-f04b-1e64f2d3cab9",
        "colab": {
          "base_uri": "https://localhost:8080/",
          "height": 247
        }
      },
      "source": [
        "fig, axs = plt.subplots(1,4, figsize=(15,3),sharey=True)\n",
        "\n",
        "for column, ax in zip(data.columns, axs.flatten()[:4]):\n",
        "  ax.scatter(data[column],data['Sales'])\n",
        "  ax.set_xlabel(column)\n",
        "plt.suptitle('Scatterplots vs. Sales')\n",
        "plt.show()"
      ],
      "execution_count": 0,
      "outputs": [
        {
          "output_type": "display_data",
          "data": {
            "image/png": "[encoded data removed]",
            "text/plain": [
              "<Figure size 1080x216 with 4 Axes>"
            ]
          },
          "metadata": {
            "tags": [],
            "needs_background": "light"
          }
        }
      ]
    },
    {
      "cell_type": "code",
      "metadata": {
        "id": "woU0iSzYQeS8",
        "colab_type": "code",
        "outputId": "c60e8e3e-9600-4bcb-9bef-eacd8c33c9fb",
        "colab": {
          "base_uri": "https://localhost:8080/",
          "height": 247
        }
      },
      "source": [
        "fig, axs = plt.subplots(1,4, figsize=(15,3))\n",
        "\n",
        "for column, ax in zip(data.columns[1:5], axs.flatten()[:4]):\n",
        "  ax.scatter(data['Day'],data[column])\n",
        "  ax.set_xlabel(column)\n",
        "plt.suptitle('Scatterplots vs. Day')\n",
        "plt.show()"
      ],
      "execution_count": 117,
      "outputs": [
        {
          "output_type": "display_data",
          "data": {
            "image/png": "[encoded data removed]",
            "text/plain": [
              "<Figure size 1080x216 with 4 Axes>"
            ]
          },
          "metadata": {
            "tags": [],
            "needs_background": "light"
          }
        }
      ]
    },
    {
      "cell_type": "markdown",
      "metadata": {
        "id": "MUwrsndBT5wL",
        "colab_type": "text"
      },
      "source": [
        "There seems to be no meaningful seasonal trend within the data. All variables show no significant trend vs. Day."
      ]
    },
    {
      "cell_type": "markdown",
      "metadata": {
        "id": "FcRgwjb_lFT5",
        "colab_type": "text"
      },
      "source": [
        "#OLS Regression\n",
        "\n",
        "* Price elasticity (Based on OLS coefficients without scaling): For every dollar spent on\n",
        "  * **Social Media**, there is a 5 cents increase in Sales\n",
        "  * **Google Adwords**, there is a 10 cents increase in Sales.\n",
        "  * **Youtube**, there is half a cent increase in Sales. (Not statistically significant, p>0.05)\n",
        "\n",
        "* Channel impact (Based on OLS coefficients with scaling): We see that **Social Media** has about 3 times the impact of **Google Adwords**\n",
        "\n",
        "* Average Channel Spending: Social 147, Google Adwords 23, Youtube 30. "
      ]
    },
    {
      "cell_type": "code",
      "metadata": {
        "id": "br6-EQZOmhxJ",
        "colab_type": "code",
        "outputId": "02eb7def-ad5c-47d2-ac73-37cc942cc1ef",
        "colab": {
          "base_uri": "https://localhost:8080/"
        }
      },
      "source": [
        "data.mean()"
      ],
      "execution_count": 0,
      "outputs": [
        {
          "output_type": "execute_result",
          "data": {
            "text/plain": [
              "Day               100.5000\n",
              "Social            147.0425\n",
              "Google Adwords     23.2640\n",
              "Youtube            30.5540\n",
              "Sales              15.1305\n",
              "dtype: float64"
            ]
          },
          "metadata": {
            "tags": []
          },
          "execution_count": 83
        }
      ]
    },
    {
      "cell_type": "markdown",
      "metadata": {
        "id": "byB-MiTXmGQC",
        "colab_type": "text"
      },
      "source": [
        "##With all variables"
      ]
    },
    {
      "cell_type": "code",
      "metadata": {
        "id": "Kv9NQbKplJyk",
        "colab_type": "code",
        "outputId": "2c5db476-3d04-43e5-ab84-853e9af6b6f2",
        "colab": {
          "base_uri": "https://localhost:8080/"
        }
      },
      "source": [
        "#set variables\n",
        "x = data[['Social','Google Adwords','Youtube']]\n",
        "y = data['Sales']\n",
        "\n",
        "#add constant\n",
        "x = sm.add_constant(x)\n",
        "\n",
        "#test train split\n",
        "x_train, x_test, y_train, y_test = train_test_split(\n",
        "                                          x, y, test_size = 0.2, random_state = 42\n",
        "                                        )\n",
        "\n",
        "# run model\n",
        "lin_model = sm.OLS(y_train, x_train).fit()\n",
        "\n",
        "lin_model.summary()"
      ],
      "execution_count": 0,
      "outputs": [
        {
          "output_type": "execute_result",
          "data": {
            "text/html": [
              "<table class=\"simpletable\">\n",
              "<caption>OLS Regression Results</caption>\n",
              "<tr>\n",
              "  <th>Dep. Variable:</th>          <td>Sales</td>      <th>  R-squared:         </th> <td>   0.900</td>\n",
              "</tr>\n",
              "<tr>\n",
              "  <th>Model:</th>                   <td>OLS</td>       <th>  Adj. R-squared:    </th> <td>   0.898</td>\n",
              "</tr>\n",
              "<tr>\n",
              "  <th>Method:</th>             <td>Least Squares</td>  <th>  F-statistic:       </th> <td>   468.7</td>\n",
              "</tr>\n",
              "<tr>\n",
              "  <th>Date:</th>             <td>Mon, 04 May 2020</td> <th>  Prob (F-statistic):</th> <td>8.51e-78</td>\n",
              "</tr>\n",
              "<tr>\n",
              "  <th>Time:</th>                 <td>19:55:06</td>     <th>  Log-Likelihood:    </th> <td> -305.78</td>\n",
              "</tr>\n",
              "<tr>\n",
              "  <th>No. Observations:</th>      <td>   160</td>      <th>  AIC:               </th> <td>   619.6</td>\n",
              "</tr>\n",
              "<tr>\n",
              "  <th>Df Residuals:</th>          <td>   156</td>      <th>  BIC:               </th> <td>   631.9</td>\n",
              "</tr>\n",
              "<tr>\n",
              "  <th>Df Model:</th>              <td>     3</td>      <th>                     </th>     <td> </td>   \n",
              "</tr>\n",
              "<tr>\n",
              "  <th>Covariance Type:</th>      <td>nonrobust</td>    <th>                     </th>     <td> </td>   \n",
              "</tr>\n",
              "</table>\n",
              "<table class=\"simpletable\">\n",
              "<tr>\n",
              "         <td></td>           <th>coef</th>     <th>std err</th>      <th>t</th>      <th>P>|t|</th>  <th>[0.025</th>    <th>0.975]</th>  \n",
              "</tr>\n",
              "<tr>\n",
              "  <th>const</th>          <td>    4.7141</td> <td>    0.352</td> <td>   13.407</td> <td> 0.000</td> <td>    4.020</td> <td>    5.409</td>\n",
              "</tr>\n",
              "<tr>\n",
              "  <th>Social</th>         <td>    0.0545</td> <td>    0.002</td> <td>   34.972</td> <td> 0.000</td> <td>    0.051</td> <td>    0.058</td>\n",
              "</tr>\n",
              "<tr>\n",
              "  <th>Google Adwords</th> <td>    0.1009</td> <td>    0.010</td> <td>   10.470</td> <td> 0.000</td> <td>    0.082</td> <td>    0.120</td>\n",
              "</tr>\n",
              "<tr>\n",
              "  <th>Youtube</th>        <td>    0.0043</td> <td>    0.007</td> <td>    0.619</td> <td> 0.537</td> <td>   -0.010</td> <td>    0.018</td>\n",
              "</tr>\n",
              "</table>\n",
              "<table class=\"simpletable\">\n",
              "<tr>\n",
              "  <th>Omnibus:</th>       <td>13.344</td> <th>  Durbin-Watson:     </th> <td>   2.108</td>\n",
              "</tr>\n",
              "<tr>\n",
              "  <th>Prob(Omnibus):</th> <td> 0.001</td> <th>  Jarque-Bera (JB):  </th> <td>  22.080</td>\n",
              "</tr>\n",
              "<tr>\n",
              "  <th>Skew:</th>          <td>-0.422</td> <th>  Prob(JB):          </th> <td>1.60e-05</td>\n",
              "</tr>\n",
              "<tr>\n",
              "  <th>Kurtosis:</th>      <td> 4.613</td> <th>  Cond. No.          </th> <td>    471.</td>\n",
              "</tr>\n",
              "</table><br/><br/>Warnings:<br/>[1] Standard Errors assume that the covariance matrix of the errors is correctly specified."
            ],
            "text/plain": [
              "<class 'statsmodels.iolib.summary.Summary'>\n",
              "\"\"\"\n",
              "                            OLS Regression Results                            \n",
              "==============================================================================\n",
              "Dep. Variable:                  Sales   R-squared:                       0.900\n",
              "Model:                            OLS   Adj. R-squared:                  0.898\n",
              "Method:                 Least Squares   F-statistic:                     468.7\n",
              "Date:                Mon, 04 May 2020   Prob (F-statistic):           8.51e-78\n",
              "Time:                        19:55:06   Log-Likelihood:                -305.78\n",
              "No. Observations:                 160   AIC:                             619.6\n",
              "Df Residuals:                     156   BIC:                             631.9\n",
              "Df Model:                           3                                         \n",
              "Covariance Type:            nonrobust                                         \n",
              "==================================================================================\n",
              "                     coef    std err          t      P>|t|      [0.025      0.975]\n",
              "----------------------------------------------------------------------------------\n",
              "const              4.7141      0.352     13.407      0.000       4.020       5.409\n",
              "Social             0.0545      0.002     34.972      0.000       0.051       0.058\n",
              "Google Adwords     0.1009      0.010     10.470      0.000       0.082       0.120\n",
              "Youtube            0.0043      0.007      0.619      0.537      -0.010       0.018\n",
              "==============================================================================\n",
              "Omnibus:                       13.344   Durbin-Watson:                   2.108\n",
              "Prob(Omnibus):                  0.001   Jarque-Bera (JB):               22.080\n",
              "Skew:                          -0.422   Prob(JB):                     1.60e-05\n",
              "Kurtosis:                       4.613   Cond. No.                         471.\n",
              "==============================================================================\n",
              "\n",
              "Warnings:\n",
              "[1] Standard Errors assume that the covariance matrix of the errors is correctly specified.\n",
              "\"\"\""
            ]
          },
          "metadata": {
            "tags": []
          },
          "execution_count": 84
        }
      ]
    },
    {
      "cell_type": "code",
      "metadata": {
        "id": "-i_AKKOelm36",
        "colab_type": "code",
        "outputId": "6d0c99c4-2988-460d-a626-1588942e2802",
        "colab": {
          "base_uri": "https://localhost:8080/"
        }
      },
      "source": [
        "#R2 scores\n",
        "print(f'Train score: {r2_score(y_train,lin_model.predict(x_train)):.3f}')\n",
        "print(f'Test score: {r2_score(y_test,lin_model.predict(x_test)):.3f}')\n",
        "#Root MSE Values\n",
        "print(f'Train root mse: {mean_squared_error(y_train, lin_model.predict(x_train))**0.5:.3f}')\n",
        "print(f'Test root mse: {mean_squared_error(y_test, lin_model.predict(x_test))**0.5:.3f}')"
      ],
      "execution_count": 0,
      "outputs": [
        {
          "output_type": "stream",
          "text": [
            "Train score: 0.900\n",
            "Test score: 0.906\n",
            "Train root mse: 1.636\n",
            "Test root mse: 1.705\n"
          ],
          "name": "stdout"
        }
      ]
    },
    {
      "cell_type": "markdown",
      "metadata": {
        "id": "G7YYs8btmKnB",
        "colab_type": "text"
      },
      "source": [
        "## p < 0.05"
      ]
    },
    {
      "cell_type": "code",
      "metadata": {
        "id": "lFh9sD33mOm_",
        "colab_type": "code",
        "outputId": "667f9cce-8dea-4673-ae40-84d202a5f87b",
        "colab": {
          "base_uri": "https://localhost:8080/"
        }
      },
      "source": [
        "#set variables\n",
        "x = data[['Social','Google Adwords']]\n",
        "y = data['Sales']\n",
        "\n",
        "#add constant\n",
        "x = sm.add_constant(x)\n",
        "\n",
        "#test train split\n",
        "x_train, x_test, y_train, y_test = train_test_split(\n",
        "                                          x, y, test_size = 0.2, random_state = 42\n",
        "                                        )\n",
        "\n",
        "# run model\n",
        "lin_model = sm.OLS(y_train, x_train).fit()\n",
        "\n",
        "lin_model.summary()"
      ],
      "execution_count": 0,
      "outputs": [
        {
          "output_type": "execute_result",
          "data": {
            "text/html": [
              "<table class=\"simpletable\">\n",
              "<caption>OLS Regression Results</caption>\n",
              "<tr>\n",
              "  <th>Dep. Variable:</th>          <td>Sales</td>      <th>  R-squared:         </th> <td>   0.900</td>\n",
              "</tr>\n",
              "<tr>\n",
              "  <th>Model:</th>                   <td>OLS</td>       <th>  Adj. R-squared:    </th> <td>   0.899</td>\n",
              "</tr>\n",
              "<tr>\n",
              "  <th>Method:</th>             <td>Least Squares</td>  <th>  F-statistic:       </th> <td>   705.7</td>\n",
              "</tr>\n",
              "<tr>\n",
              "  <th>Date:</th>             <td>Mon, 04 May 2020</td> <th>  Prob (F-statistic):</th> <td>3.43e-79</td>\n",
              "</tr>\n",
              "<tr>\n",
              "  <th>Time:</th>                 <td>19:55:06</td>     <th>  Log-Likelihood:    </th> <td> -305.98</td>\n",
              "</tr>\n",
              "<tr>\n",
              "  <th>No. Observations:</th>      <td>   160</td>      <th>  AIC:               </th> <td>   618.0</td>\n",
              "</tr>\n",
              "<tr>\n",
              "  <th>Df Residuals:</th>          <td>   157</td>      <th>  BIC:               </th> <td>   627.2</td>\n",
              "</tr>\n",
              "<tr>\n",
              "  <th>Df Model:</th>              <td>     2</td>      <th>                     </th>     <td> </td>   \n",
              "</tr>\n",
              "<tr>\n",
              "  <th>Covariance Type:</th>      <td>nonrobust</td>    <th>                     </th>     <td> </td>   \n",
              "</tr>\n",
              "</table>\n",
              "<table class=\"simpletable\">\n",
              "<tr>\n",
              "         <td></td>           <th>coef</th>     <th>std err</th>      <th>t</th>      <th>P>|t|</th>  <th>[0.025</th>    <th>0.975]</th>  \n",
              "</tr>\n",
              "<tr>\n",
              "  <th>const</th>          <td>    4.7914</td> <td>    0.328</td> <td>   14.606</td> <td> 0.000</td> <td>    4.143</td> <td>    5.439</td>\n",
              "</tr>\n",
              "<tr>\n",
              "  <th>Social</th>         <td>    0.0545</td> <td>    0.002</td> <td>   35.040</td> <td> 0.000</td> <td>    0.051</td> <td>    0.058</td>\n",
              "</tr>\n",
              "<tr>\n",
              "  <th>Google Adwords</th> <td>    0.1033</td> <td>    0.009</td> <td>   11.641</td> <td> 0.000</td> <td>    0.086</td> <td>    0.121</td>\n",
              "</tr>\n",
              "</table>\n",
              "<table class=\"simpletable\">\n",
              "<tr>\n",
              "  <th>Omnibus:</th>       <td>15.269</td> <th>  Durbin-Watson:     </th> <td>   2.103</td>\n",
              "</tr>\n",
              "<tr>\n",
              "  <th>Prob(Omnibus):</th> <td> 0.000</td> <th>  Jarque-Bera (JB):  </th> <td>  26.509</td>\n",
              "</tr>\n",
              "<tr>\n",
              "  <th>Skew:</th>          <td>-0.468</td> <th>  Prob(JB):          </th> <td>1.75e-06</td>\n",
              "</tr>\n",
              "<tr>\n",
              "  <th>Kurtosis:</th>      <td> 4.760</td> <th>  Cond. No.          </th> <td>    435.</td>\n",
              "</tr>\n",
              "</table><br/><br/>Warnings:<br/>[1] Standard Errors assume that the covariance matrix of the errors is correctly specified."
            ],
            "text/plain": [
              "<class 'statsmodels.iolib.summary.Summary'>\n",
              "\"\"\"\n",
              "                            OLS Regression Results                            \n",
              "==============================================================================\n",
              "Dep. Variable:                  Sales   R-squared:                       0.900\n",
              "Model:                            OLS   Adj. R-squared:                  0.899\n",
              "Method:                 Least Squares   F-statistic:                     705.7\n",
              "Date:                Mon, 04 May 2020   Prob (F-statistic):           3.43e-79\n",
              "Time:                        19:55:06   Log-Likelihood:                -305.98\n",
              "No. Observations:                 160   AIC:                             618.0\n",
              "Df Residuals:                     157   BIC:                             627.2\n",
              "Df Model:                           2                                         \n",
              "Covariance Type:            nonrobust                                         \n",
              "==================================================================================\n",
              "                     coef    std err          t      P>|t|      [0.025      0.975]\n",
              "----------------------------------------------------------------------------------\n",
              "const              4.7914      0.328     14.606      0.000       4.143       5.439\n",
              "Social             0.0545      0.002     35.040      0.000       0.051       0.058\n",
              "Google Adwords     0.1033      0.009     11.641      0.000       0.086       0.121\n",
              "==============================================================================\n",
              "Omnibus:                       15.269   Durbin-Watson:                   2.103\n",
              "Prob(Omnibus):                  0.000   Jarque-Bera (JB):               26.509\n",
              "Skew:                          -0.468   Prob(JB):                     1.75e-06\n",
              "Kurtosis:                       4.760   Cond. No.                         435.\n",
              "==============================================================================\n",
              "\n",
              "Warnings:\n",
              "[1] Standard Errors assume that the covariance matrix of the errors is correctly specified.\n",
              "\"\"\""
            ]
          },
          "metadata": {
            "tags": []
          },
          "execution_count": 86
        }
      ]
    },
    {
      "cell_type": "code",
      "metadata": {
        "id": "2QQI1T4wmnei",
        "colab_type": "code",
        "outputId": "bcde6277-70ea-4c58-8c66-d867dbb74e17",
        "colab": {
          "base_uri": "https://localhost:8080/"
        }
      },
      "source": [
        "#R2 scores\n",
        "print(f'Train score: {r2_score(y_train,lin_model.predict(x_train)):.3f}')\n",
        "print(f'Test score: {r2_score(y_test,lin_model.predict(x_test)):.3f}')\n",
        "#Root MSE Values\n",
        "print(f'Train root mse: {mean_squared_error(y_train, lin_model.predict(x_train))**0.5:.3f}')\n",
        "print(f'Test root mse: {mean_squared_error(y_test, lin_model.predict(x_test))**0.5:.3f}')"
      ],
      "execution_count": 0,
      "outputs": [
        {
          "output_type": "stream",
          "text": [
            "Train score: 0.900\n",
            "Test score: 0.908\n",
            "Train root mse: 1.638\n",
            "Test root mse: 1.687\n"
          ],
          "name": "stdout"
        }
      ]
    },
    {
      "cell_type": "code",
      "metadata": {
        "id": "a0P_2gl44pbP",
        "colab_type": "code",
        "outputId": "76678f32-b150-4601-cbb9-3735f87fd4f2",
        "colab": {
          "base_uri": "https://localhost:8080/"
        }
      },
      "source": [
        "y_pred = lin_model.predict(x_test)\n",
        "print(y_pred.mean())\n",
        "print(data['Sales'].mean())"
      ],
      "execution_count": 0,
      "outputs": [
        {
          "output_type": "stream",
          "text": [
            "14.719830412384088\n",
            "15.130500000000005\n"
          ],
          "name": "stdout"
        }
      ]
    },
    {
      "cell_type": "code",
      "metadata": {
        "id": "sj5G5vST7hjX",
        "colab_type": "code",
        "colab": {}
      },
      "source": [
        "def show_values_on_bars(axs, h_v=\"v\", space=0.4):\n",
        "    def _show_on_single_plot(ax):\n",
        "        if h_v == \"v\":\n",
        "            for p in ax.patches:\n",
        "                _x = p.get_x() + p.get_width() / 2\n",
        "                _y = p.get_y() + p.get_height()\n",
        "                value = float(p.get_height().round(2))\n",
        "                ax.text(_x, _y, value, ha=\"center\")\n",
        "        elif h_v == \"h\":\n",
        "            for p in ax.patches:\n",
        "                _x = p.get_x() + p.get_width() + float(space)\n",
        "                _y = p.get_y() + p.get_height()\n",
        "                value = float(p.get_width().round(2))\n",
        "                ax.text(_x, _y, value, ha=\"left\", va=\"bottom\")\n",
        "\n",
        "    if isinstance(axs, np.ndarray):\n",
        "        for idx, ax in np.ndenumerate(axs):\n",
        "            _show_on_single_plot(ax)\n",
        "    else:\n",
        "        _show_on_single_plot(axs)"
      ],
      "execution_count": 0,
      "outputs": []
    },
    {
      "cell_type": "code",
      "metadata": {
        "id": "JQGxuMiQ6YnE",
        "colab_type": "code",
        "outputId": "76cd0703-85cc-4db6-a702-edc5c794d64f",
        "colab": {
          "base_uri": "https://localhost:8080/"
        }
      },
      "source": [
        "fig, ax = plt.subplots(1,1, figsize=(5,5))\n",
        "sns.barplot(lin_model.params.abs(), lin_model.params.index,ax=ax)\n",
        "show_values_on_bars(ax, \"h\", 0)\n",
        "\n",
        "plt.title('Absolute impact of variables on Sales')\n",
        "plt.show()"
      ],
      "execution_count": 0,
      "outputs": [
        {
          "output_type": "display_data",
          "data": {
            "image/png": "[encoded data removed]",
            "text/plain": [
              "<Figure size 360x360 with 1 Axes>"
            ]
          },
          "metadata": {
            "tags": [],
            "needs_background": "light"
          }
        }
      ]
    },
    {
      "cell_type": "markdown",
      "metadata": {
        "id": "fKWB-WJ6989B",
        "colab_type": "text"
      },
      "source": [
        "## With Scaler"
      ]
    },
    {
      "cell_type": "code",
      "metadata": {
        "id": "dlfzTgVZ9902",
        "colab_type": "code",
        "outputId": "5ac08bc6-e18b-4b9d-fc17-cb293741dab6",
        "colab": {
          "base_uri": "https://localhost:8080/"
        }
      },
      "source": [
        "#set variables\n",
        "x = data[['Social','Google Adwords']]\n",
        "y = data['Sales']\n",
        "\n",
        "#test train split\n",
        "x_train, x_test, y_train, y_test = train_test_split(\n",
        "                                          x, y, test_size = 0.2, random_state = 42\n",
        "                                        )\n",
        "\n",
        "# create a standard scaler for each variable and variable partition\n",
        "for col in x_train.columns:\n",
        "  ss_x_train = StandardScaler()\n",
        "  x_train[col] = ss_x_train.fit_transform(np.array(x_train[col]).reshape(-1,1))\n",
        "\n",
        "  ss_x_test = StandardScaler()\n",
        "  x_test[col] = ss_x_test.fit_transform(np.array(x_test[col]).reshape(-1,1))\n",
        "\n",
        "# fit the fit_transform train set\n",
        "ss_y_train = StandardScaler()\n",
        "y_train = ss_y_train.fit_transform(np.array(y_train).reshape(-1,1))\n",
        "\n",
        "#fit the fit_transform test set\n",
        "ss_y_test = StandardScaler()\n",
        "y_test = ss_y_test.fit_transform(np.array(y_test).reshape(-1,1))\n",
        "\n",
        "#add constant to train and test x\n",
        "x_train = sm.add_constant(x_train)\n",
        "x_test = sm.add_constant(x_test)\n",
        "\n",
        "# run model\n",
        "lin_model = sm.OLS(y_train, x_train).fit()\n",
        "\n",
        "lin_model.summary()"
      ],
      "execution_count": 0,
      "outputs": [
        {
          "output_type": "stream",
          "text": [
            "/usr/local/lib/python3.6/dist-packages/ipykernel_launcher.py:12: SettingWithCopyWarning: \n",
            "A value is trying to be set on a copy of a slice from a DataFrame.\n",
            "Try using .loc[row_indexer,col_indexer] = value instead\n",
            "\n",
            "See the caveats in the documentation: https://pandas.pydata.org/pandas-docs/stable/user_guide/indexing.html#returning-a-view-versus-a-copy\n",
            "  if sys.path[0] == '':\n",
            "/usr/local/lib/python3.6/dist-packages/ipykernel_launcher.py:15: SettingWithCopyWarning: \n",
            "A value is trying to be set on a copy of a slice from a DataFrame.\n",
            "Try using .loc[row_indexer,col_indexer] = value instead\n",
            "\n",
            "See the caveats in the documentation: https://pandas.pydata.org/pandas-docs/stable/user_guide/indexing.html#returning-a-view-versus-a-copy\n",
            "  from ipykernel import kernelapp as app\n",
            "/usr/local/lib/python3.6/dist-packages/ipykernel_launcher.py:12: SettingWithCopyWarning: \n",
            "A value is trying to be set on a copy of a slice from a DataFrame.\n",
            "Try using .loc[row_indexer,col_indexer] = value instead\n",
            "\n",
            "See the caveats in the documentation: https://pandas.pydata.org/pandas-docs/stable/user_guide/indexing.html#returning-a-view-versus-a-copy\n",
            "  if sys.path[0] == '':\n",
            "/usr/local/lib/python3.6/dist-packages/ipykernel_launcher.py:15: SettingWithCopyWarning: \n",
            "A value is trying to be set on a copy of a slice from a DataFrame.\n",
            "Try using .loc[row_indexer,col_indexer] = value instead\n",
            "\n",
            "See the caveats in the documentation: https://pandas.pydata.org/pandas-docs/stable/user_guide/indexing.html#returning-a-view-versus-a-copy\n",
            "  from ipykernel import kernelapp as app\n"
          ],
          "name": "stderr"
        },
        {
          "output_type": "execute_result",
          "data": {
            "text/html": [
              "<table class=\"simpletable\">\n",
              "<caption>OLS Regression Results</caption>\n",
              "<tr>\n",
              "  <th>Dep. Variable:</th>            <td>y</td>        <th>  R-squared:         </th> <td>   0.900</td>\n",
              "</tr>\n",
              "<tr>\n",
              "  <th>Model:</th>                   <td>OLS</td>       <th>  Adj. R-squared:    </th> <td>   0.899</td>\n",
              "</tr>\n",
              "<tr>\n",
              "  <th>Method:</th>             <td>Least Squares</td>  <th>  F-statistic:       </th> <td>   705.7</td>\n",
              "</tr>\n",
              "<tr>\n",
              "  <th>Date:</th>             <td>Mon, 04 May 2020</td> <th>  Prob (F-statistic):</th> <td>3.43e-79</td>\n",
              "</tr>\n",
              "<tr>\n",
              "  <th>Time:</th>                 <td>19:55:07</td>     <th>  Log-Likelihood:    </th> <td> -42.906</td>\n",
              "</tr>\n",
              "<tr>\n",
              "  <th>No. Observations:</th>      <td>   160</td>      <th>  AIC:               </th> <td>   91.81</td>\n",
              "</tr>\n",
              "<tr>\n",
              "  <th>Df Residuals:</th>          <td>   157</td>      <th>  BIC:               </th> <td>   101.0</td>\n",
              "</tr>\n",
              "<tr>\n",
              "  <th>Df Model:</th>              <td>     2</td>      <th>                     </th>     <td> </td>   \n",
              "</tr>\n",
              "<tr>\n",
              "  <th>Covariance Type:</th>      <td>nonrobust</td>    <th>                     </th>     <td> </td>   \n",
              "</tr>\n",
              "</table>\n",
              "<table class=\"simpletable\">\n",
              "<tr>\n",
              "         <td></td>           <th>coef</th>     <th>std err</th>      <th>t</th>      <th>P>|t|</th>  <th>[0.025</th>    <th>0.975]</th>  \n",
              "</tr>\n",
              "<tr>\n",
              "  <th>const</th>          <td>-2.637e-16</td> <td>    0.025</td> <td>-1.04e-14</td> <td> 1.000</td> <td>   -0.050</td> <td>    0.050</td>\n",
              "</tr>\n",
              "<tr>\n",
              "  <th>Social</th>         <td>    0.8861</td> <td>    0.025</td> <td>   35.040</td> <td> 0.000</td> <td>    0.836</td> <td>    0.936</td>\n",
              "</tr>\n",
              "<tr>\n",
              "  <th>Google Adwords</th> <td>    0.2944</td> <td>    0.025</td> <td>   11.641</td> <td> 0.000</td> <td>    0.244</td> <td>    0.344</td>\n",
              "</tr>\n",
              "</table>\n",
              "<table class=\"simpletable\">\n",
              "<tr>\n",
              "  <th>Omnibus:</th>       <td>15.269</td> <th>  Durbin-Watson:     </th> <td>   2.103</td>\n",
              "</tr>\n",
              "<tr>\n",
              "  <th>Prob(Omnibus):</th> <td> 0.000</td> <th>  Jarque-Bera (JB):  </th> <td>  26.509</td>\n",
              "</tr>\n",
              "<tr>\n",
              "  <th>Skew:</th>          <td>-0.468</td> <th>  Prob(JB):          </th> <td>1.75e-06</td>\n",
              "</tr>\n",
              "<tr>\n",
              "  <th>Kurtosis:</th>      <td> 4.760</td> <th>  Cond. No.          </th> <td>    1.06</td>\n",
              "</tr>\n",
              "</table><br/><br/>Warnings:<br/>[1] Standard Errors assume that the covariance matrix of the errors is correctly specified."
            ],
            "text/plain": [
              "<class 'statsmodels.iolib.summary.Summary'>\n",
              "\"\"\"\n",
              "                            OLS Regression Results                            \n",
              "==============================================================================\n",
              "Dep. Variable:                      y   R-squared:                       0.900\n",
              "Model:                            OLS   Adj. R-squared:                  0.899\n",
              "Method:                 Least Squares   F-statistic:                     705.7\n",
              "Date:                Mon, 04 May 2020   Prob (F-statistic):           3.43e-79\n",
              "Time:                        19:55:07   Log-Likelihood:                -42.906\n",
              "No. Observations:                 160   AIC:                             91.81\n",
              "Df Residuals:                     157   BIC:                             101.0\n",
              "Df Model:                           2                                         \n",
              "Covariance Type:            nonrobust                                         \n",
              "==================================================================================\n",
              "                     coef    std err          t      P>|t|      [0.025      0.975]\n",
              "----------------------------------------------------------------------------------\n",
              "const          -2.637e-16      0.025  -1.04e-14      1.000      -0.050       0.050\n",
              "Social             0.8861      0.025     35.040      0.000       0.836       0.936\n",
              "Google Adwords     0.2944      0.025     11.641      0.000       0.244       0.344\n",
              "==============================================================================\n",
              "Omnibus:                       15.269   Durbin-Watson:                   2.103\n",
              "Prob(Omnibus):                  0.000   Jarque-Bera (JB):               26.509\n",
              "Skew:                          -0.468   Prob(JB):                     1.75e-06\n",
              "Kurtosis:                       4.760   Cond. No.                         1.06\n",
              "==============================================================================\n",
              "\n",
              "Warnings:\n",
              "[1] Standard Errors assume that the covariance matrix of the errors is correctly specified.\n",
              "\"\"\""
            ]
          },
          "metadata": {
            "tags": []
          },
          "execution_count": 91
        }
      ]
    },
    {
      "cell_type": "code",
      "metadata": {
        "id": "-rqf5a7N-WMJ",
        "colab_type": "code",
        "outputId": "a407fe74-384d-43c4-f45d-1cca3a5a40f6",
        "colab": {
          "base_uri": "https://localhost:8080/"
        }
      },
      "source": [
        "#R2 scores\n",
        "print(f'Train score: {r2_score(y_train,lin_model.predict(x_train)):.3f}')\n",
        "print(f'Test score: {r2_score(y_test,lin_model.predict(x_test)):.3f}')\n",
        "#Root MSE Values\n",
        "print(f'Train root mse: {mean_squared_error(y_train, lin_model.predict(x_train))**0.5:.3f}')\n",
        "print(f'Test root mse: {mean_squared_error(y_test, lin_model.predict(x_test))**0.5:.3f}')"
      ],
      "execution_count": 0,
      "outputs": [
        {
          "output_type": "stream",
          "text": [
            "Train score: 0.900\n",
            "Test score: 0.915\n",
            "Train root mse: 0.316\n",
            "Test root mse: 0.292\n"
          ],
          "name": "stdout"
        }
      ]
    },
    {
      "cell_type": "code",
      "metadata": {
        "id": "fRPxsKQn-WAM",
        "colab_type": "code",
        "outputId": "628d1c4a-0ca9-4074-dd86-d73108c24dc0",
        "colab": {
          "base_uri": "https://localhost:8080/"
        }
      },
      "source": [
        "y_prediction_test = lin_model.predict(x_test)\n",
        "y_pred = ss_y_test.inverse_transform(y_prediction_test)\n",
        "print(y_pred.mean())\n",
        "print(data['Sales'].mean())"
      ],
      "execution_count": 0,
      "outputs": [
        {
          "output_type": "stream",
          "text": [
            "14.329999999999998\n",
            "15.130500000000005\n"
          ],
          "name": "stdout"
        }
      ]
    },
    {
      "cell_type": "code",
      "metadata": {
        "id": "mHvXAiR_-oXR",
        "colab_type": "code",
        "outputId": "bd91865e-df23-4f25-a3cb-779ad47e5b17",
        "colab": {
          "base_uri": "https://localhost:8080/"
        }
      },
      "source": [
        "fig, ax = plt.subplots(1,1, figsize=(5,5))\n",
        "sns.barplot(lin_model.params.abs(), lin_model.params.index,ax=ax)\n",
        "show_values_on_bars(ax, \"h\", 0)\n",
        "\n",
        "plt.title('Absolute impact of variables on Sales')\n",
        "plt.show()"
      ],
      "execution_count": 0,
      "outputs": [
        {
          "output_type": "display_data",
          "data": {
            "image/png": "[encoded data removed]",
            "text/plain": [
              "<Figure size 360x360 with 1 Axes>"
            ]
          },
          "metadata": {
            "tags": [],
            "needs_background": "light"
          }
        }
      ]
    },
    {
      "cell_type": "markdown",
      "metadata": {
        "id": "qlijt7eCagMA",
        "colab_type": "text"
      },
      "source": [
        "#Ridge Regression"
      ]
    },
    {
      "cell_type": "code",
      "metadata": {
        "id": "chzkXqjZGg5J",
        "colab_type": "code",
        "colab": {}
      },
      "source": [
        "#Set the variable\n",
        "x = data.drop(columns = ['Sales'])\n",
        "y = data['Sales']"
      ],
      "execution_count": 0,
      "outputs": []
    },
    {
      "cell_type": "code",
      "metadata": {
        "id": "aNpwcSf2HKy-",
        "colab_type": "code",
        "colab": {}
      },
      "source": [
        "#test_train_split\n",
        "x_train, x_test, y_train, y_test = train_test_split(x,\n",
        "                                                  y,\n",
        "                                                  test_size = 0.2,\n",
        "                                                  random_state = 42)\n",
        "\n",
        "#set up model object\n",
        "ridge_cv_model = Ridge()\n",
        "\n",
        "#set up cross validation\n",
        "ridge_cv_scores = cross_validate(ridge_cv_model,\n",
        "                                  x_train,\n",
        "                                  y_train,\n",
        "                                  cv = 5,\n",
        "                                 scoring=('r2','neg_mean_squared_error'))"
      ],
      "execution_count": 0,
      "outputs": []
    },
    {
      "cell_type": "code",
      "metadata": {
        "id": "L9pqRd86L61A",
        "colab_type": "code",
        "outputId": "a44c2877-f440-4485-88e3-2f40f1529e00",
        "colab": {
          "base_uri": "https://localhost:8080/"
        }
      },
      "source": [
        "ridge_cv_scores"
      ],
      "execution_count": 0,
      "outputs": [
        {
          "output_type": "execute_result",
          "data": {
            "text/plain": [
              "{'fit_time': array([0.00427628, 0.00201297, 0.00189424, 0.00203443, 0.00191498]),\n",
              " 'score_time': array([0.00147223, 0.00131869, 0.00132179, 0.0013299 , 0.00126958]),\n",
              " 'test_neg_mean_squared_error': array([-2.38784755, -2.551569  , -2.91006226, -2.12767478, -3.84385299]),\n",
              " 'test_r2': array([0.88963149, 0.87585871, 0.89529266, 0.91789321, 0.8567851 ])}"
            ]
          },
          "metadata": {
            "tags": []
          },
          "execution_count": 97
        }
      ]
    },
    {
      "cell_type": "code",
      "metadata": {
        "id": "o7C9xp-SNOEi",
        "colab_type": "code",
        "outputId": "c6e9be9d-07a9-4213-dffe-796b9b5af274",
        "colab": {
          "base_uri": "https://localhost:8080/"
        }
      },
      "source": [
        "ridge_cv_scores['test_r2'].mean()"
      ],
      "execution_count": 0,
      "outputs": [
        {
          "output_type": "execute_result",
          "data": {
            "text/plain": [
              "0.8870922346194343"
            ]
          },
          "metadata": {
            "tags": []
          },
          "execution_count": 98
        }
      ]
    },
    {
      "cell_type": "code",
      "metadata": {
        "id": "c8NDM358PMaw",
        "colab_type": "code",
        "outputId": "6011cb64-75c9-463d-f1da-e381a77894db",
        "colab": {
          "base_uri": "https://localhost:8080/"
        }
      },
      "source": [
        "ridge_cv_scores['test_neg_mean_squared_error'].mean()"
      ],
      "execution_count": 0,
      "outputs": [
        {
          "output_type": "execute_result",
          "data": {
            "text/plain": [
              "-2.7642013156778096"
            ]
          },
          "metadata": {
            "tags": []
          },
          "execution_count": 99
        }
      ]
    },
    {
      "cell_type": "code",
      "metadata": {
        "id": "-6iYOFGoPSwt",
        "colab_type": "code",
        "colab": {}
      },
      "source": [
        "#set alpha range\n",
        "alpha_range = [np.power(10,float(number)) for number in range(-5,6)]"
      ],
      "execution_count": 0,
      "outputs": []
    },
    {
      "cell_type": "code",
      "metadata": {
        "id": "_h9d8xw1SB6S",
        "colab_type": "code",
        "colab": {}
      },
      "source": [
        "seed = 42\n",
        "\n",
        "mydict = {}\n",
        "s = []\n",
        "\n",
        "for alpha_num in alpha_range:\n",
        "  #create ridge model object\n",
        "  ridge_cv_model = Ridge(alpha = alpha_num, random_state = seed)\n",
        "  \n",
        "  #set up cross validation\n",
        "  ridge_cv_scores = cross_validate(ridge_cv_model,\n",
        "                                    x_train,\n",
        "                                    y_train,\n",
        "                                    cv = 5,\n",
        "                                    scoring=('r2','neg_mean_squared_error'))\n",
        "  \n",
        "  #get the mean of scores\n",
        "  r2_cv_mean = ridge_cv_scores['test_r2'].mean()\n",
        "  mse_cv_mean = ridge_cv_scores['test_neg_mean_squared_error'].mean()\n",
        "\n",
        "  mydict[f'{alpha_num}'] = (r2_cv_mean, mse_cv_mean)\n",
        "\n",
        "  s.append(r2_cv_mean)"
      ],
      "execution_count": 0,
      "outputs": []
    },
    {
      "cell_type": "code",
      "metadata": {
        "id": "hp2lOHm3Xz02",
        "colab_type": "code",
        "outputId": "00aae794-b823-4a18-fdf0-73959e648809",
        "colab": {
          "base_uri": "https://localhost:8080/"
        }
      },
      "source": [
        "mydict"
      ],
      "execution_count": 0,
      "outputs": [
        {
          "output_type": "execute_result",
          "data": {
            "text/plain": [
              "{'0.0001': (0.8870920247652485, -2.7642054087492007),\n",
              " '0.001': (0.8870920249542861, -2.764205405061511),\n",
              " '0.01': (0.8870920268446476, -2.7642053681849488),\n",
              " '0.1': (0.8870920457467747, -2.7642049994546034),\n",
              " '1.0': (0.8870922346194343, -2.7642013156778096),\n",
              " '10.0': (0.8870941084982474, -2.764164830253918),\n",
              " '100.0': (0.8871113760081848, -2.763834891060566),\n",
              " '1000.0': (0.8871494876689278, -2.763729642138757),\n",
              " '10000.0': (0.8811179061435723, -2.914926115058106),\n",
              " '100000.0': (0.8225402663911472, -4.348920650828101),\n",
              " '1e-05': (0.8870920247463447, -2.7642054091179715)}"
            ]
          },
          "metadata": {
            "tags": []
          },
          "execution_count": 102
        }
      ]
    },
    {
      "cell_type": "code",
      "metadata": {
        "id": "rJnlv8iuYJdn",
        "colab_type": "code",
        "outputId": "d24fc244-fa7a-4ae2-a0e8-362da267e723",
        "colab": {
          "base_uri": "https://localhost:8080/"
        }
      },
      "source": [
        "np.argmax(s)"
      ],
      "execution_count": 0,
      "outputs": [
        {
          "output_type": "execute_result",
          "data": {
            "text/plain": [
              "8"
            ]
          },
          "metadata": {
            "tags": []
          },
          "execution_count": 103
        }
      ]
    },
    {
      "cell_type": "code",
      "metadata": {
        "id": "30ZQwOaSYKzY",
        "colab_type": "code",
        "outputId": "729a84af-a2b5-46b2-e2b5-229248fc8d36",
        "colab": {
          "base_uri": "https://localhost:8080/"
        }
      },
      "source": [
        "import pprint\n",
        "pp = pprint.PrettyPrinter()\n",
        "\n",
        "estimator = Ridge(10000, random_state=42)\n",
        "estimator.fit(x_train,y_train)\n",
        "pp.pprint(list(zip(x.columns,estimator.coef_)))"
      ],
      "execution_count": 0,
      "outputs": [
        {
          "output_type": "stream",
          "text": [
            "[('Day', 0.001075846218881575),\n",
            " ('Social', 0.054220604207775636),\n",
            " ('Google Adwords', 0.0763209854501067),\n",
            " ('Youtube', 0.010257459324502581)]\n"
          ],
          "name": "stdout"
        }
      ]
    },
    {
      "cell_type": "code",
      "metadata": {
        "id": "SCsdFce5USDF",
        "colab_type": "code",
        "colab": {}
      },
      "source": [
        ""
      ],
      "execution_count": 0,
      "outputs": []
    },
    {
      "cell_type": "code",
      "metadata": {
        "id": "YzQMgyInWTyq",
        "colab_type": "code",
        "colab": {}
      },
      "source": [
        ""
      ],
      "execution_count": 0,
      "outputs": []
    },
    {
      "cell_type": "code",
      "metadata": {
        "id": "sPtxP6-hWT17",
        "colab_type": "code",
        "colab": {}
      },
      "source": [
        ""
      ],
      "execution_count": 0,
      "outputs": []
    }
  ]
}