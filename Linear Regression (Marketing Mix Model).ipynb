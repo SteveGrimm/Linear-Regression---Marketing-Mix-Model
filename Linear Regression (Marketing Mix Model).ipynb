{
 "cells": [
  {
   "cell_type": "markdown",
   "metadata": {
    "colab_type": "text",
    "id": "dRYvTS8S4aOV"
   },
   "source": [
    "# Data Import"
   ]
  },
  {
   "cell_type": "code",
   "execution_count": 1,
   "metadata": {
    "colab": {},
    "colab_type": "code",
    "id": "j9WwRMwy2f5M"
   },
   "outputs": [],
   "source": [
    "import pandas as pd\n",
    "import numpy as np\n",
    "import matplotlib.pyplot as plt\n",
    "import statsmodels.api as sm\n",
    "import seaborn as sns\n",
    "from sklearn.model_selection import train_test_split, cross_validate\n",
    "from sklearn.metrics import r2_score, mean_squared_error\n",
    "from sklearn.preprocessing import StandardScaler\n",
    "from sklearn.linear_model import Ridge\n",
    "from sklearn.pipeline import Pipeline"
   ]
  },
  {
   "cell_type": "code",
   "execution_count": 2,
   "metadata": {
    "colab": {},
    "colab_type": "code",
    "id": "fHHFkJto3d72"
   },
   "outputs": [],
   "source": [
    "data = pd.read_csv('advertising.csv')"
   ]
  },
  {
   "cell_type": "markdown",
   "metadata": {
    "colab_type": "text",
    "id": "GYmQdw1n3sh0"
   },
   "source": [
    "# Data Exploration\n",
    "\n",
    "<div>\n",
    "<img src=https://i.pinimg.com/originals/92/6d/12/926d127280fbd2ef409166c0f2f4fe1c.jpg width=\"260\">\n",
    "</div>\n",
    "\n",
    "* Channel selection: Youtube does not seem to have an impact on Sales\n",
    "* No seasonal trends visible in the data\n",
    "* Social has a pretty strong linear relationship to sales, as evidenced by the scatter plot and the correlation of 0.90"
   ]
  },
  {
   "cell_type": "code",
   "execution_count": 3,
   "metadata": {
    "colab": {
     "base_uri": "https://localhost:8080/",
     "height": 415
    },
    "colab_type": "code",
    "id": "6A9G15A84jn5",
    "outputId": "1b710113-997e-4c49-eeef-99cf53a8a892"
   },
   "outputs": [
    {
     "data": {
      "text/html": [
       "<div>\n",
       "<style scoped>\n",
       "    .dataframe tbody tr th:only-of-type {\n",
       "        vertical-align: middle;\n",
       "    }\n",
       "\n",
       "    .dataframe tbody tr th {\n",
       "        vertical-align: top;\n",
       "    }\n",
       "\n",
       "    .dataframe thead th {\n",
       "        text-align: right;\n",
       "    }\n",
       "</style>\n",
       "<table border=\"1\" class=\"dataframe\">\n",
       "  <thead>\n",
       "    <tr style=\"text-align: right;\">\n",
       "      <th></th>\n",
       "      <th>Day</th>\n",
       "      <th>Social</th>\n",
       "      <th>Google Adwords</th>\n",
       "      <th>Youtube</th>\n",
       "      <th>Sales</th>\n",
       "    </tr>\n",
       "  </thead>\n",
       "  <tbody>\n",
       "    <tr>\n",
       "      <th>0</th>\n",
       "      <td>1</td>\n",
       "      <td>230.1</td>\n",
       "      <td>37.8</td>\n",
       "      <td>69.2</td>\n",
       "      <td>22.1</td>\n",
       "    </tr>\n",
       "    <tr>\n",
       "      <th>1</th>\n",
       "      <td>2</td>\n",
       "      <td>44.5</td>\n",
       "      <td>39.3</td>\n",
       "      <td>45.1</td>\n",
       "      <td>10.4</td>\n",
       "    </tr>\n",
       "    <tr>\n",
       "      <th>2</th>\n",
       "      <td>3</td>\n",
       "      <td>17.2</td>\n",
       "      <td>45.9</td>\n",
       "      <td>69.3</td>\n",
       "      <td>12.0</td>\n",
       "    </tr>\n",
       "    <tr>\n",
       "      <th>3</th>\n",
       "      <td>4</td>\n",
       "      <td>151.5</td>\n",
       "      <td>41.3</td>\n",
       "      <td>58.5</td>\n",
       "      <td>16.5</td>\n",
       "    </tr>\n",
       "    <tr>\n",
       "      <th>4</th>\n",
       "      <td>5</td>\n",
       "      <td>180.8</td>\n",
       "      <td>10.8</td>\n",
       "      <td>58.4</td>\n",
       "      <td>17.9</td>\n",
       "    </tr>\n",
       "    <tr>\n",
       "      <th>...</th>\n",
       "      <td>...</td>\n",
       "      <td>...</td>\n",
       "      <td>...</td>\n",
       "      <td>...</td>\n",
       "      <td>...</td>\n",
       "    </tr>\n",
       "    <tr>\n",
       "      <th>195</th>\n",
       "      <td>196</td>\n",
       "      <td>38.2</td>\n",
       "      <td>3.7</td>\n",
       "      <td>13.8</td>\n",
       "      <td>7.6</td>\n",
       "    </tr>\n",
       "    <tr>\n",
       "      <th>196</th>\n",
       "      <td>197</td>\n",
       "      <td>94.2</td>\n",
       "      <td>4.9</td>\n",
       "      <td>8.1</td>\n",
       "      <td>14.0</td>\n",
       "    </tr>\n",
       "    <tr>\n",
       "      <th>197</th>\n",
       "      <td>198</td>\n",
       "      <td>177.0</td>\n",
       "      <td>9.3</td>\n",
       "      <td>6.4</td>\n",
       "      <td>14.8</td>\n",
       "    </tr>\n",
       "    <tr>\n",
       "      <th>198</th>\n",
       "      <td>199</td>\n",
       "      <td>283.6</td>\n",
       "      <td>42.0</td>\n",
       "      <td>66.2</td>\n",
       "      <td>25.5</td>\n",
       "    </tr>\n",
       "    <tr>\n",
       "      <th>199</th>\n",
       "      <td>200</td>\n",
       "      <td>232.1</td>\n",
       "      <td>8.6</td>\n",
       "      <td>8.7</td>\n",
       "      <td>18.4</td>\n",
       "    </tr>\n",
       "  </tbody>\n",
       "</table>\n",
       "<p>200 rows × 5 columns</p>\n",
       "</div>"
      ],
      "text/plain": [
       "     Day  Social  Google Adwords  Youtube  Sales\n",
       "0      1   230.1            37.8     69.2   22.1\n",
       "1      2    44.5            39.3     45.1   10.4\n",
       "2      3    17.2            45.9     69.3   12.0\n",
       "3      4   151.5            41.3     58.5   16.5\n",
       "4      5   180.8            10.8     58.4   17.9\n",
       "..   ...     ...             ...      ...    ...\n",
       "195  196    38.2             3.7     13.8    7.6\n",
       "196  197    94.2             4.9      8.1   14.0\n",
       "197  198   177.0             9.3      6.4   14.8\n",
       "198  199   283.6            42.0     66.2   25.5\n",
       "199  200   232.1             8.6      8.7   18.4\n",
       "\n",
       "[200 rows x 5 columns]"
      ]
     },
     "execution_count": 3,
     "metadata": {},
     "output_type": "execute_result"
    }
   ],
   "source": [
    "data"
   ]
  },
  {
   "cell_type": "code",
   "execution_count": 4,
   "metadata": {
    "colab": {
     "base_uri": "https://localhost:8080/",
     "height": 121
    },
    "colab_type": "code",
    "id": "79oV9Rjl4n7K",
    "outputId": "ea6168b9-826d-4395-cb81-40180681523f"
   },
   "outputs": [
    {
     "data": {
      "text/plain": [
       "Day                 int64\n",
       "Social            float64\n",
       "Google Adwords    float64\n",
       "Youtube           float64\n",
       "Sales             float64\n",
       "dtype: object"
      ]
     },
     "execution_count": 4,
     "metadata": {},
     "output_type": "execute_result"
    }
   ],
   "source": [
    "data.dtypes"
   ]
  },
  {
   "cell_type": "code",
   "execution_count": 5,
   "metadata": {
    "colab": {
     "base_uri": "https://localhost:8080/",
     "height": 121
    },
    "colab_type": "code",
    "id": "Vf_TncBsWKzJ",
    "outputId": "f32fbf3c-5762-41fb-f709-c02c2bb878b1"
   },
   "outputs": [
    {
     "data": {
      "text/plain": [
       "Day               0\n",
       "Social            0\n",
       "Google Adwords    0\n",
       "Youtube           0\n",
       "Sales             0\n",
       "dtype: int64"
      ]
     },
     "execution_count": 5,
     "metadata": {},
     "output_type": "execute_result"
    }
   ],
   "source": [
    "data.isnull().sum()"
   ]
  },
  {
   "cell_type": "code",
   "execution_count": 6,
   "metadata": {
    "colab": {
     "base_uri": "https://localhost:8080/",
     "height": 121
    },
    "colab_type": "code",
    "id": "thc1L269WO_s",
    "outputId": "e7c71c6a-8d6a-47d3-8a74-e116fe82161f"
   },
   "outputs": [
    {
     "data": {
      "text/plain": [
       "Day              -0.021306\n",
       "Social            0.901208\n",
       "Google Adwords    0.349631\n",
       "Youtube           0.157960\n",
       "Sales             1.000000\n",
       "Name: Sales, dtype: float64"
      ]
     },
     "execution_count": 6,
     "metadata": {},
     "output_type": "execute_result"
    }
   ],
   "source": [
    "data.corr()['Sales']"
   ]
  },
  {
   "cell_type": "markdown",
   "metadata": {
    "colab_type": "text",
    "id": "jDe6Ej1SZr2T"
   },
   "source": [
    "We would drop `Day` and `Youtube`, as the have a low correlation (<0.2) with `Sales`, however wie will keep both for now, due to the low amount of variables overall."
   ]
  },
  {
   "cell_type": "code",
   "execution_count": 7,
   "metadata": {
    "colab": {
     "base_uri": "https://localhost:8080/",
     "height": 247
    },
    "colab_type": "code",
    "id": "MF6qTdvmW9eC",
    "outputId": "ab7a71cf-1861-48dc-d0f3-4fd0b9db94ba"
   },
   "outputs": [
    {
     "data": {
      "image/png": "[encoded data removed]",
      "text/plain": [
       "<Figure size 1080x216 with 5 Axes>"
      ]
     },
     "metadata": {
      "needs_background": "light"
     },
     "output_type": "display_data"
    }
   ],
   "source": [
    "fig, axs = plt.subplots(1,5, figsize=(15,3),sharey=True)\n",
    "\n",
    "for column, ax in zip(data.columns, axs.flatten()[:5]):\n",
    "  sns.distplot(data[column],ax=ax)\n",
    "\n",
    "plt.suptitle('Distribution of Variables')\n",
    "plt.show()"
   ]
  },
  {
   "cell_type": "code",
   "execution_count": 8,
   "metadata": {
    "colab": {
     "base_uri": "https://localhost:8080/",
     "height": 104
    },
    "colab_type": "code",
    "id": "lau0terxXKjB",
    "outputId": "cb480b42-61b6-49c8-940a-e867433d7c89"
   },
   "outputs": [
    {
     "name": "stdout",
     "output_type": "stream",
     "text": [
      "Day: 198.01, 200\n",
      "Social: 292.9069999999999, 296.4\n",
      "Google Adwords: 49.4, 49.6\n",
      "Youtube: 89.5149999999999, 114.0\n",
      "Sales: 25.506999999999994, 27.0\n"
     ]
    }
   ],
   "source": [
    "for column in data.columns:\n",
    "  print(f'{column}: {data[column].quantile(0.99)}, {data[column].max()}')"
   ]
  },
  {
   "cell_type": "markdown",
   "metadata": {
    "colab_type": "text",
    "id": "tzKp-W6OYP5Y"
   },
   "source": [
    "The only variable with noticable outliers is Youtube, but the difference between the 99th percentile and the max seems acceptable. The Distributions are also fairly narrow, another indicator of not having to remove outliers."
   ]
  },
  {
   "cell_type": "code",
   "execution_count": 9,
   "metadata": {
    "colab": {
     "base_uri": "https://localhost:8080/",
     "height": 247
    },
    "colab_type": "code",
    "id": "Np9-x_PcXe5g",
    "outputId": "72eddd90-7b0a-42f3-f5e5-0e32f0edc47f"
   },
   "outputs": [
    {
     "data": {
      "image/png": "[encoded data removed]",
      "text/plain": [
       "<Figure size 1080x216 with 4 Axes>"
      ]
     },
     "metadata": {
      "needs_background": "light"
     },
     "output_type": "display_data"
    }
   ],
   "source": [
    "fig, axs = plt.subplots(1,4, figsize=(15,3))\n",
    "\n",
    "for column, ax in zip(data.columns, axs.flatten()[:4]):\n",
    "  ax.scatter(data[column],data['Sales'])\n",
    "  ax.set_xlabel(column)\n",
    "  ax.set_ylabel('Sales')\n",
    "plt.suptitle('Scatterplots vs. Sales')\n",
    "plt.show()"
   ]
  },
  {
   "cell_type": "markdown",
   "metadata": {
    "colab_type": "text",
    "id": "n2DfZMc6fyxa"
   },
   "source": [
    "Social has a clear linear trend vs. Sales. The other variables do not show any."
   ]
  },
  {
   "cell_type": "code",
   "execution_count": 10,
   "metadata": {
    "colab": {
     "base_uri": "https://localhost:8080/",
     "height": 229
    },
    "colab_type": "code",
    "id": "woU0iSzYQeS8",
    "outputId": "4486a173-e242-4855-ad8d-4d85d3f1bc67"
   },
   "outputs": [
    {
     "data": {
      "image/png": "[encoded data removed]",
      "text/plain": [
       "<Figure size 1296x216 with 4 Axes>"
      ]
     },
     "metadata": {
      "needs_background": "light"
     },
     "output_type": "display_data"
    }
   ],
   "source": [
    "fig, axs = plt.subplots(1,4, figsize=(18,3))\n",
    "\n",
    "for column, ax in zip(data.columns[1:5], axs.flatten()[:4]):\n",
    "  ax.scatter(data['Day'],data[column])\n",
    "  ax.set_xlabel('Day')\n",
    "  ax.set_ylabel(column)\n",
    "plt.suptitle('Scatterplots vs. Day')\n",
    "plt.show()"
   ]
  },
  {
   "cell_type": "markdown",
   "metadata": {
    "colab_type": "text",
    "id": "MUwrsndBT5wL"
   },
   "source": [
    "There seems to be no meaningful seasonal trend within the data. All variables show no significant trend vs. Day."
   ]
  },
  {
   "cell_type": "markdown",
   "metadata": {
    "colab_type": "text",
    "id": "FcRgwjb_lFT5"
   },
   "source": [
    "# OLS Regression\n",
    "\n",
    "![](https://media.makeameme.org/created/regression.jpg)\n",
    "\n",
    "* Price elasticity (Based on OLS coefficients without scaling): For every dollar spent on\n",
    "  * **Social Media**, there is a 5 cents increase in Sales\n",
    "  * **Google Adwords**, there is a 10 cents increase in Sales.\n",
    "  * **Youtube**, there is half a cent increase in Sales. (Not statistically significant, p>0.05)\n",
    "\n",
    "* Channel impact (Based on OLS coefficients with scaling): We see that **Social Media** has about 3 times the impact of **Google Adwords**\n",
    "\n",
    "* Average Channel Spending: Social 147, Google Adwords 23, Youtube 30. \n",
    "\n",
    "$\\Rightarrow$ Social Media has a higher impact on Sales because of the higher amount spent on it, however Google Adwords is twice as effective generating twice the amount of Sales per Dollar spent.\n",
    "\n",
    "* Final Formula\n",
    "    $ Sales = 0.05 * (Social) + 0.10 * (Google Adwords) + 4.79$\n",
    "    * This model has an $R^2$ of 0.900 and an MRSE of 1.638\n",
    "    * Without any Channels 1000ml would still make 4.79$ in Sales per day.\n",
    "    * We removed Days and Youtube from our model, since they carry no statistical significance.\n",
    "\n",
    "* Other possible features: Channel reach (clicks, views etc.), user demographic (through user profiles)"
   ]
  },
  {
   "cell_type": "code",
   "execution_count": 11,
   "metadata": {
    "colab": {
     "base_uri": "https://localhost:8080/",
     "height": 121
    },
    "colab_type": "code",
    "id": "br6-EQZOmhxJ",
    "outputId": "e4056b1d-6e88-4f2f-c767-e2fda320aafc"
   },
   "outputs": [
    {
     "data": {
      "text/plain": [
       "Day               100.5000\n",
       "Social            147.0425\n",
       "Google Adwords     23.2640\n",
       "Youtube            30.5540\n",
       "Sales              15.1305\n",
       "dtype: float64"
      ]
     },
     "execution_count": 11,
     "metadata": {},
     "output_type": "execute_result"
    }
   ],
   "source": [
    "data.mean()"
   ]
  },
  {
   "cell_type": "markdown",
   "metadata": {
    "colab_type": "text",
    "id": "Mdydp9F7eph-"
   },
   "source": [
    "The most spending is on Social, with Youtube and Google Adwords being close to each other."
   ]
  },
  {
   "cell_type": "markdown",
   "metadata": {
    "colab_type": "text",
    "id": "byB-MiTXmGQC"
   },
   "source": [
    "## With all variables\n",
    "* Google Adwords: 0.10, Social: 0.05, Youtube: 0.00 (insignificant)"
   ]
  },
  {
   "cell_type": "code",
   "execution_count": 12,
   "metadata": {
    "colab": {
     "base_uri": "https://localhost:8080/",
     "height": 482
    },
    "colab_type": "code",
    "id": "Kv9NQbKplJyk",
    "outputId": "ce9b926b-f2c2-40ac-ea86-eb0808ff3d7b"
   },
   "outputs": [
    {
     "data": {
      "text/html": [
       "<table class=\"simpletable\">\n",
       "<caption>OLS Regression Results</caption>\n",
       "<tr>\n",
       "  <th>Dep. Variable:</th>          <td>Sales</td>      <th>  R-squared:         </th> <td>   0.900</td>\n",
       "</tr>\n",
       "<tr>\n",
       "  <th>Model:</th>                   <td>OLS</td>       <th>  Adj. R-squared:    </th> <td>   0.898</td>\n",
       "</tr>\n",
       "<tr>\n",
       "  <th>Method:</th>             <td>Least Squares</td>  <th>  F-statistic:       </th> <td>   468.7</td>\n",
       "</tr>\n",
       "<tr>\n",
       "  <th>Date:</th>             <td>Thu, 03 Sep 2020</td> <th>  Prob (F-statistic):</th> <td>8.51e-78</td>\n",
       "</tr>\n",
       "<tr>\n",
       "  <th>Time:</th>                 <td>15:55:48</td>     <th>  Log-Likelihood:    </th> <td> -305.78</td>\n",
       "</tr>\n",
       "<tr>\n",
       "  <th>No. Observations:</th>      <td>   160</td>      <th>  AIC:               </th> <td>   619.6</td>\n",
       "</tr>\n",
       "<tr>\n",
       "  <th>Df Residuals:</th>          <td>   156</td>      <th>  BIC:               </th> <td>   631.9</td>\n",
       "</tr>\n",
       "<tr>\n",
       "  <th>Df Model:</th>              <td>     3</td>      <th>                     </th>     <td> </td>   \n",
       "</tr>\n",
       "<tr>\n",
       "  <th>Covariance Type:</th>      <td>nonrobust</td>    <th>                     </th>     <td> </td>   \n",
       "</tr>\n",
       "</table>\n",
       "<table class=\"simpletable\">\n",
       "<tr>\n",
       "         <td></td>           <th>coef</th>     <th>std err</th>      <th>t</th>      <th>P>|t|</th>  <th>[0.025</th>    <th>0.975]</th>  \n",
       "</tr>\n",
       "<tr>\n",
       "  <th>const</th>          <td>    4.7141</td> <td>    0.352</td> <td>   13.407</td> <td> 0.000</td> <td>    4.020</td> <td>    5.409</td>\n",
       "</tr>\n",
       "<tr>\n",
       "  <th>Social</th>         <td>    0.0545</td> <td>    0.002</td> <td>   34.972</td> <td> 0.000</td> <td>    0.051</td> <td>    0.058</td>\n",
       "</tr>\n",
       "<tr>\n",
       "  <th>Google Adwords</th> <td>    0.1009</td> <td>    0.010</td> <td>   10.470</td> <td> 0.000</td> <td>    0.082</td> <td>    0.120</td>\n",
       "</tr>\n",
       "<tr>\n",
       "  <th>Youtube</th>        <td>    0.0043</td> <td>    0.007</td> <td>    0.619</td> <td> 0.537</td> <td>   -0.010</td> <td>    0.018</td>\n",
       "</tr>\n",
       "</table>\n",
       "<table class=\"simpletable\">\n",
       "<tr>\n",
       "  <th>Omnibus:</th>       <td>13.344</td> <th>  Durbin-Watson:     </th> <td>   2.108</td>\n",
       "</tr>\n",
       "<tr>\n",
       "  <th>Prob(Omnibus):</th> <td> 0.001</td> <th>  Jarque-Bera (JB):  </th> <td>  22.080</td>\n",
       "</tr>\n",
       "<tr>\n",
       "  <th>Skew:</th>          <td>-0.422</td> <th>  Prob(JB):          </th> <td>1.60e-05</td>\n",
       "</tr>\n",
       "<tr>\n",
       "  <th>Kurtosis:</th>      <td> 4.613</td> <th>  Cond. No.          </th> <td>    471.</td>\n",
       "</tr>\n",
       "</table><br/><br/>Notes:<br/>[1] Standard Errors assume that the covariance matrix of the errors is correctly specified."
      ],
      "text/plain": [
       "<class 'statsmodels.iolib.summary.Summary'>\n",
       "\"\"\"\n",
       "                            OLS Regression Results                            \n",
       "==============================================================================\n",
       "Dep. Variable:                  Sales   R-squared:                       0.900\n",
       "Model:                            OLS   Adj. R-squared:                  0.898\n",
       "Method:                 Least Squares   F-statistic:                     468.7\n",
       "Date:                Thu, 03 Sep 2020   Prob (F-statistic):           8.51e-78\n",
       "Time:                        15:55:48   Log-Likelihood:                -305.78\n",
       "No. Observations:                 160   AIC:                             619.6\n",
       "Df Residuals:                     156   BIC:                             631.9\n",
       "Df Model:                           3                                         \n",
       "Covariance Type:            nonrobust                                         \n",
       "==================================================================================\n",
       "                     coef    std err          t      P>|t|      [0.025      0.975]\n",
       "----------------------------------------------------------------------------------\n",
       "const              4.7141      0.352     13.407      0.000       4.020       5.409\n",
       "Social             0.0545      0.002     34.972      0.000       0.051       0.058\n",
       "Google Adwords     0.1009      0.010     10.470      0.000       0.082       0.120\n",
       "Youtube            0.0043      0.007      0.619      0.537      -0.010       0.018\n",
       "==============================================================================\n",
       "Omnibus:                       13.344   Durbin-Watson:                   2.108\n",
       "Prob(Omnibus):                  0.001   Jarque-Bera (JB):               22.080\n",
       "Skew:                          -0.422   Prob(JB):                     1.60e-05\n",
       "Kurtosis:                       4.613   Cond. No.                         471.\n",
       "==============================================================================\n",
       "\n",
       "Notes:\n",
       "[1] Standard Errors assume that the covariance matrix of the errors is correctly specified.\n",
       "\"\"\""
      ]
     },
     "execution_count": 12,
     "metadata": {},
     "output_type": "execute_result"
    }
   ],
   "source": [
    "#set variables\n",
    "x = data[['Social','Google Adwords','Youtube']]\n",
    "y = data['Sales']\n",
    "\n",
    "#add constant\n",
    "x = sm.add_constant(x)\n",
    "\n",
    "#test train split\n",
    "x_train, x_test, y_train, y_test = train_test_split(\n",
    "                                          x, y, test_size = 0.2, random_state = 42\n",
    "                                        )\n",
    "\n",
    "# run model\n",
    "lin_model = sm.OLS(y_train, x_train).fit()\n",
    "\n",
    "lin_model.summary()"
   ]
  },
  {
   "cell_type": "code",
   "execution_count": 13,
   "metadata": {
    "colab": {
     "base_uri": "https://localhost:8080/",
     "height": 87
    },
    "colab_type": "code",
    "id": "-i_AKKOelm36",
    "outputId": "dc295600-cc99-48e1-ea03-515e0cea4fd1"
   },
   "outputs": [
    {
     "name": "stdout",
     "output_type": "stream",
     "text": [
      "Train score: 0.900\n",
      "Test score: 0.906\n",
      "Train root mse: 1.636\n",
      "Test root mse: 1.705\n"
     ]
    }
   ],
   "source": [
    "#R2 scores\n",
    "print(f'Train score: {r2_score(y_train,lin_model.predict(x_train)):.3f}')\n",
    "print(f'Test score: {r2_score(y_test,lin_model.predict(x_test)):.3f}')\n",
    "#Root MSE Values\n",
    "print(f'Train root mse: {mean_squared_error(y_train, lin_model.predict(x_train))**0.5:.3f}')\n",
    "print(f'Test root mse: {mean_squared_error(y_test, lin_model.predict(x_test))**0.5:.3f}')"
   ]
  },
  {
   "cell_type": "markdown",
   "metadata": {
    "colab_type": "text",
    "id": "G7YYs8btmKnB"
   },
   "source": [
    "## p < 0.05\n",
    "* Google Adwords: 0.10, Social: 0.05"
   ]
  },
  {
   "cell_type": "code",
   "execution_count": 14,
   "metadata": {
    "colab": {
     "base_uri": "https://localhost:8080/",
     "height": 461
    },
    "colab_type": "code",
    "id": "lFh9sD33mOm_",
    "outputId": "7384295f-02c0-4709-d67b-f302ddf81336"
   },
   "outputs": [
    {
     "data": {
      "text/html": [
       "<table class=\"simpletable\">\n",
       "<caption>OLS Regression Results</caption>\n",
       "<tr>\n",
       "  <th>Dep. Variable:</th>          <td>Sales</td>      <th>  R-squared:         </th> <td>   0.900</td>\n",
       "</tr>\n",
       "<tr>\n",
       "  <th>Model:</th>                   <td>OLS</td>       <th>  Adj. R-squared:    </th> <td>   0.899</td>\n",
       "</tr>\n",
       "<tr>\n",
       "  <th>Method:</th>             <td>Least Squares</td>  <th>  F-statistic:       </th> <td>   705.7</td>\n",
       "</tr>\n",
       "<tr>\n",
       "  <th>Date:</th>             <td>Thu, 03 Sep 2020</td> <th>  Prob (F-statistic):</th> <td>3.43e-79</td>\n",
       "</tr>\n",
       "<tr>\n",
       "  <th>Time:</th>                 <td>15:55:48</td>     <th>  Log-Likelihood:    </th> <td> -305.98</td>\n",
       "</tr>\n",
       "<tr>\n",
       "  <th>No. Observations:</th>      <td>   160</td>      <th>  AIC:               </th> <td>   618.0</td>\n",
       "</tr>\n",
       "<tr>\n",
       "  <th>Df Residuals:</th>          <td>   157</td>      <th>  BIC:               </th> <td>   627.2</td>\n",
       "</tr>\n",
       "<tr>\n",
       "  <th>Df Model:</th>              <td>     2</td>      <th>                     </th>     <td> </td>   \n",
       "</tr>\n",
       "<tr>\n",
       "  <th>Covariance Type:</th>      <td>nonrobust</td>    <th>                     </th>     <td> </td>   \n",
       "</tr>\n",
       "</table>\n",
       "<table class=\"simpletable\">\n",
       "<tr>\n",
       "         <td></td>           <th>coef</th>     <th>std err</th>      <th>t</th>      <th>P>|t|</th>  <th>[0.025</th>    <th>0.975]</th>  \n",
       "</tr>\n",
       "<tr>\n",
       "  <th>const</th>          <td>    4.7914</td> <td>    0.328</td> <td>   14.606</td> <td> 0.000</td> <td>    4.143</td> <td>    5.439</td>\n",
       "</tr>\n",
       "<tr>\n",
       "  <th>Social</th>         <td>    0.0545</td> <td>    0.002</td> <td>   35.040</td> <td> 0.000</td> <td>    0.051</td> <td>    0.058</td>\n",
       "</tr>\n",
       "<tr>\n",
       "  <th>Google Adwords</th> <td>    0.1033</td> <td>    0.009</td> <td>   11.641</td> <td> 0.000</td> <td>    0.086</td> <td>    0.121</td>\n",
       "</tr>\n",
       "</table>\n",
       "<table class=\"simpletable\">\n",
       "<tr>\n",
       "  <th>Omnibus:</th>       <td>15.269</td> <th>  Durbin-Watson:     </th> <td>   2.103</td>\n",
       "</tr>\n",
       "<tr>\n",
       "  <th>Prob(Omnibus):</th> <td> 0.000</td> <th>  Jarque-Bera (JB):  </th> <td>  26.509</td>\n",
       "</tr>\n",
       "<tr>\n",
       "  <th>Skew:</th>          <td>-0.468</td> <th>  Prob(JB):          </th> <td>1.75e-06</td>\n",
       "</tr>\n",
       "<tr>\n",
       "  <th>Kurtosis:</th>      <td> 4.760</td> <th>  Cond. No.          </th> <td>    435.</td>\n",
       "</tr>\n",
       "</table><br/><br/>Notes:<br/>[1] Standard Errors assume that the covariance matrix of the errors is correctly specified."
      ],
      "text/plain": [
       "<class 'statsmodels.iolib.summary.Summary'>\n",
       "\"\"\"\n",
       "                            OLS Regression Results                            \n",
       "==============================================================================\n",
       "Dep. Variable:                  Sales   R-squared:                       0.900\n",
       "Model:                            OLS   Adj. R-squared:                  0.899\n",
       "Method:                 Least Squares   F-statistic:                     705.7\n",
       "Date:                Thu, 03 Sep 2020   Prob (F-statistic):           3.43e-79\n",
       "Time:                        15:55:48   Log-Likelihood:                -305.98\n",
       "No. Observations:                 160   AIC:                             618.0\n",
       "Df Residuals:                     157   BIC:                             627.2\n",
       "Df Model:                           2                                         \n",
       "Covariance Type:            nonrobust                                         \n",
       "==================================================================================\n",
       "                     coef    std err          t      P>|t|      [0.025      0.975]\n",
       "----------------------------------------------------------------------------------\n",
       "const              4.7914      0.328     14.606      0.000       4.143       5.439\n",
       "Social             0.0545      0.002     35.040      0.000       0.051       0.058\n",
       "Google Adwords     0.1033      0.009     11.641      0.000       0.086       0.121\n",
       "==============================================================================\n",
       "Omnibus:                       15.269   Durbin-Watson:                   2.103\n",
       "Prob(Omnibus):                  0.000   Jarque-Bera (JB):               26.509\n",
       "Skew:                          -0.468   Prob(JB):                     1.75e-06\n",
       "Kurtosis:                       4.760   Cond. No.                         435.\n",
       "==============================================================================\n",
       "\n",
       "Notes:\n",
       "[1] Standard Errors assume that the covariance matrix of the errors is correctly specified.\n",
       "\"\"\""
      ]
     },
     "execution_count": 14,
     "metadata": {},
     "output_type": "execute_result"
    }
   ],
   "source": [
    "#set variables\n",
    "x = data[['Social','Google Adwords']]\n",
    "y = data['Sales']\n",
    "\n",
    "#add constant\n",
    "x = sm.add_constant(x)\n",
    "\n",
    "#test train split\n",
    "x_train, x_test, y_train, y_test = train_test_split(\n",
    "                                          x, y, test_size = 0.2, random_state = 42\n",
    "                                        )\n",
    "\n",
    "# run model\n",
    "lin_model = sm.OLS(y_train, x_train).fit()\n",
    "\n",
    "lin_model.summary()"
   ]
  },
  {
   "cell_type": "code",
   "execution_count": 15,
   "metadata": {
    "colab": {
     "base_uri": "https://localhost:8080/",
     "height": 87
    },
    "colab_type": "code",
    "id": "2QQI1T4wmnei",
    "outputId": "948d27d9-4d5e-4837-c1d3-34ecac2ef0e7"
   },
   "outputs": [
    {
     "name": "stdout",
     "output_type": "stream",
     "text": [
      "Train score: 0.900\n",
      "Test score: 0.908\n",
      "Train root mse: 1.638\n",
      "Test root mse: 1.687\n"
     ]
    }
   ],
   "source": [
    "#R2 scores\n",
    "print(f'Train score: {r2_score(y_train,lin_model.predict(x_train)):.3f}')\n",
    "print(f'Test score: {r2_score(y_test,lin_model.predict(x_test)):.3f}')\n",
    "#Root MSE Values\n",
    "print(f'Train root mse: {mean_squared_error(y_train, lin_model.predict(x_train))**0.5:.3f}')\n",
    "print(f'Test root mse: {mean_squared_error(y_test, lin_model.predict(x_test))**0.5:.3f}')"
   ]
  },
  {
   "cell_type": "code",
   "execution_count": 16,
   "metadata": {
    "colab": {
     "base_uri": "https://localhost:8080/",
     "height": 52
    },
    "colab_type": "code",
    "id": "a0P_2gl44pbP",
    "outputId": "4118c603-83d6-4dbd-d6f7-7bd522271fff"
   },
   "outputs": [
    {
     "name": "stdout",
     "output_type": "stream",
     "text": [
      "14.719830412384088\n",
      "15.130500000000001\n"
     ]
    }
   ],
   "source": [
    "y_pred = lin_model.predict(x_test)\n",
    "print(y_pred.mean())\n",
    "print(data['Sales'].mean())"
   ]
  },
  {
   "cell_type": "code",
   "execution_count": 17,
   "metadata": {
    "colab": {},
    "colab_type": "code",
    "id": "sj5G5vST7hjX"
   },
   "outputs": [],
   "source": [
    "def show_values_on_bars(axs, h_v=\"v\", space=0.4):\n",
    "    def _show_on_single_plot(ax):\n",
    "        if h_v == \"v\":\n",
    "            for p in ax.patches:\n",
    "                _x = p.get_x() + p.get_width() / 2\n",
    "                _y = p.get_y() + p.get_height()\n",
    "                value = float(p.get_height().round(2))\n",
    "                ax.text(_x, _y, value, ha=\"center\")\n",
    "        elif h_v == \"h\":\n",
    "            for p in ax.patches:\n",
    "                _x = p.get_x() + p.get_width() + float(space)\n",
    "                _y = p.get_y() + p.get_height()\n",
    "                value = float(p.get_width().round(2))\n",
    "                ax.text(_x, _y, value, ha=\"left\", va=\"bottom\")\n",
    "\n",
    "    if isinstance(axs, np.ndarray):\n",
    "        for idx, ax in np.ndenumerate(axs):\n",
    "            _show_on_single_plot(ax)\n",
    "    else:\n",
    "        _show_on_single_plot(axs)"
   ]
  },
  {
   "cell_type": "code",
   "execution_count": 18,
   "metadata": {
    "colab": {
     "base_uri": "https://localhost:8080/",
     "height": 336
    },
    "colab_type": "code",
    "id": "JQGxuMiQ6YnE",
    "outputId": "808b07ae-3bd3-41e9-a465-b8bd227670dc"
   },
   "outputs": [
    {
     "data": {
      "image/png": "[encoded data removed]",
      "text/plain": [
       "<Figure size 360x360 with 1 Axes>"
      ]
     },
     "metadata": {
      "needs_background": "light"
     },
     "output_type": "display_data"
    }
   ],
   "source": [
    "fig, ax = plt.subplots(1,1, figsize=(5,5))\n",
    "sns.barplot(lin_model.params.abs(), lin_model.params.index,ax=ax)\n",
    "show_values_on_bars(ax, \"h\", 0)\n",
    "\n",
    "plt.title('Absolute impact of variables on Sales')\n",
    "plt.show()"
   ]
  },
  {
   "cell_type": "markdown",
   "metadata": {
    "colab_type": "text",
    "id": "fKWB-WJ6989B"
   },
   "source": [
    "## With Scaler\n",
    "* Google Adwords: 0.29, Social: 0.89, Youtube: 0.02 (insignificant)"
   ]
  },
  {
   "cell_type": "code",
   "execution_count": 19,
   "metadata": {
    "colab": {
     "base_uri": "https://localhost:8080/"
    },
    "colab_type": "code",
    "id": "dlfzTgVZ9902",
    "outputId": "c07c8038-8105-42eb-9738-f3e5e5ab2e06"
   },
   "outputs": [
    {
     "name": "stderr",
     "output_type": "stream",
     "text": [
      "/home/steve/Desktop/Unit1_Project3/venv/lib/python3.7/site-packages/ipykernel_launcher.py:13: SettingWithCopyWarning: \n",
      "A value is trying to be set on a copy of a slice from a DataFrame.\n",
      "Try using .loc[row_indexer,col_indexer] = value instead\n",
      "\n",
      "See the caveats in the documentation: https://pandas.pydata.org/pandas-docs/stable/user_guide/indexing.html#returning-a-view-versus-a-copy\n",
      "  del sys.path[0]\n",
      "/home/steve/Desktop/Unit1_Project3/venv/lib/python3.7/site-packages/ipykernel_launcher.py:16: SettingWithCopyWarning: \n",
      "A value is trying to be set on a copy of a slice from a DataFrame.\n",
      "Try using .loc[row_indexer,col_indexer] = value instead\n",
      "\n",
      "See the caveats in the documentation: https://pandas.pydata.org/pandas-docs/stable/user_guide/indexing.html#returning-a-view-versus-a-copy\n",
      "  app.launch_new_instance()\n",
      "/home/steve/Desktop/Unit1_Project3/venv/lib/python3.7/site-packages/ipykernel_launcher.py:13: SettingWithCopyWarning: \n",
      "A value is trying to be set on a copy of a slice from a DataFrame.\n",
      "Try using .loc[row_indexer,col_indexer] = value instead\n",
      "\n",
      "See the caveats in the documentation: https://pandas.pydata.org/pandas-docs/stable/user_guide/indexing.html#returning-a-view-versus-a-copy\n",
      "  del sys.path[0]\n",
      "/home/steve/Desktop/Unit1_Project3/venv/lib/python3.7/site-packages/ipykernel_launcher.py:16: SettingWithCopyWarning: \n",
      "A value is trying to be set on a copy of a slice from a DataFrame.\n",
      "Try using .loc[row_indexer,col_indexer] = value instead\n",
      "\n",
      "See the caveats in the documentation: https://pandas.pydata.org/pandas-docs/stable/user_guide/indexing.html#returning-a-view-versus-a-copy\n",
      "  app.launch_new_instance()\n",
      "/home/steve/Desktop/Unit1_Project3/venv/lib/python3.7/site-packages/ipykernel_launcher.py:13: SettingWithCopyWarning: \n",
      "A value is trying to be set on a copy of a slice from a DataFrame.\n",
      "Try using .loc[row_indexer,col_indexer] = value instead\n",
      "\n",
      "See the caveats in the documentation: https://pandas.pydata.org/pandas-docs/stable/user_guide/indexing.html#returning-a-view-versus-a-copy\n",
      "  del sys.path[0]\n",
      "/home/steve/Desktop/Unit1_Project3/venv/lib/python3.7/site-packages/ipykernel_launcher.py:16: SettingWithCopyWarning: \n",
      "A value is trying to be set on a copy of a slice from a DataFrame.\n",
      "Try using .loc[row_indexer,col_indexer] = value instead\n",
      "\n",
      "See the caveats in the documentation: https://pandas.pydata.org/pandas-docs/stable/user_guide/indexing.html#returning-a-view-versus-a-copy\n",
      "  app.launch_new_instance()\n"
     ]
    },
    {
     "data": {
      "text/html": [
       "<table class=\"simpletable\">\n",
       "<caption>OLS Regression Results</caption>\n",
       "<tr>\n",
       "  <th>Dep. Variable:</th>            <td>y</td>        <th>  R-squared:         </th> <td>   0.900</td>\n",
       "</tr>\n",
       "<tr>\n",
       "  <th>Model:</th>                   <td>OLS</td>       <th>  Adj. R-squared:    </th> <td>   0.898</td>\n",
       "</tr>\n",
       "<tr>\n",
       "  <th>Method:</th>             <td>Least Squares</td>  <th>  F-statistic:       </th> <td>   468.7</td>\n",
       "</tr>\n",
       "<tr>\n",
       "  <th>Date:</th>             <td>Thu, 03 Sep 2020</td> <th>  Prob (F-statistic):</th> <td>8.51e-78</td>\n",
       "</tr>\n",
       "<tr>\n",
       "  <th>Time:</th>                 <td>15:55:48</td>     <th>  Log-Likelihood:    </th> <td> -42.710</td>\n",
       "</tr>\n",
       "<tr>\n",
       "  <th>No. Observations:</th>      <td>   160</td>      <th>  AIC:               </th> <td>   93.42</td>\n",
       "</tr>\n",
       "<tr>\n",
       "  <th>Df Residuals:</th>          <td>   156</td>      <th>  BIC:               </th> <td>   105.7</td>\n",
       "</tr>\n",
       "<tr>\n",
       "  <th>Df Model:</th>              <td>     3</td>      <th>                     </th>     <td> </td>   \n",
       "</tr>\n",
       "<tr>\n",
       "  <th>Covariance Type:</th>      <td>nonrobust</td>    <th>                     </th>     <td> </td>   \n",
       "</tr>\n",
       "</table>\n",
       "<table class=\"simpletable\">\n",
       "<tr>\n",
       "         <td></td>           <th>coef</th>     <th>std err</th>      <th>t</th>      <th>P>|t|</th>  <th>[0.025</th>    <th>0.975]</th>  \n",
       "</tr>\n",
       "<tr>\n",
       "  <th>const</th>          <td>-2.637e-16</td> <td>    0.025</td> <td>-1.04e-14</td> <td> 1.000</td> <td>   -0.050</td> <td>    0.050</td>\n",
       "</tr>\n",
       "<tr>\n",
       "  <th>Social</th>         <td>    0.8861</td> <td>    0.025</td> <td>   34.972</td> <td> 0.000</td> <td>    0.836</td> <td>    0.936</td>\n",
       "</tr>\n",
       "<tr>\n",
       "  <th>Google Adwords</th> <td>    0.2878</td> <td>    0.027</td> <td>   10.470</td> <td> 0.000</td> <td>    0.233</td> <td>    0.342</td>\n",
       "</tr>\n",
       "<tr>\n",
       "  <th>Youtube</th>        <td>    0.0170</td> <td>    0.027</td> <td>    0.619</td> <td> 0.537</td> <td>   -0.037</td> <td>    0.071</td>\n",
       "</tr>\n",
       "</table>\n",
       "<table class=\"simpletable\">\n",
       "<tr>\n",
       "  <th>Omnibus:</th>       <td>13.344</td> <th>  Durbin-Watson:     </th> <td>   2.108</td>\n",
       "</tr>\n",
       "<tr>\n",
       "  <th>Prob(Omnibus):</th> <td> 0.001</td> <th>  Jarque-Bera (JB):  </th> <td>  22.080</td>\n",
       "</tr>\n",
       "<tr>\n",
       "  <th>Skew:</th>          <td>-0.422</td> <th>  Prob(JB):          </th> <td>1.60e-05</td>\n",
       "</tr>\n",
       "<tr>\n",
       "  <th>Kurtosis:</th>      <td> 4.613</td> <th>  Cond. No.          </th> <td>    1.51</td>\n",
       "</tr>\n",
       "</table><br/><br/>Notes:<br/>[1] Standard Errors assume that the covariance matrix of the errors is correctly specified."
      ],
      "text/plain": [
       "<class 'statsmodels.iolib.summary.Summary'>\n",
       "\"\"\"\n",
       "                            OLS Regression Results                            \n",
       "==============================================================================\n",
       "Dep. Variable:                      y   R-squared:                       0.900\n",
       "Model:                            OLS   Adj. R-squared:                  0.898\n",
       "Method:                 Least Squares   F-statistic:                     468.7\n",
       "Date:                Thu, 03 Sep 2020   Prob (F-statistic):           8.51e-78\n",
       "Time:                        15:55:48   Log-Likelihood:                -42.710\n",
       "No. Observations:                 160   AIC:                             93.42\n",
       "Df Residuals:                     156   BIC:                             105.7\n",
       "Df Model:                           3                                         \n",
       "Covariance Type:            nonrobust                                         \n",
       "==================================================================================\n",
       "                     coef    std err          t      P>|t|      [0.025      0.975]\n",
       "----------------------------------------------------------------------------------\n",
       "const          -2.637e-16      0.025  -1.04e-14      1.000      -0.050       0.050\n",
       "Social             0.8861      0.025     34.972      0.000       0.836       0.936\n",
       "Google Adwords     0.2878      0.027     10.470      0.000       0.233       0.342\n",
       "Youtube            0.0170      0.027      0.619      0.537      -0.037       0.071\n",
       "==============================================================================\n",
       "Omnibus:                       13.344   Durbin-Watson:                   2.108\n",
       "Prob(Omnibus):                  0.001   Jarque-Bera (JB):               22.080\n",
       "Skew:                          -0.422   Prob(JB):                     1.60e-05\n",
       "Kurtosis:                       4.613   Cond. No.                         1.51\n",
       "==============================================================================\n",
       "\n",
       "Notes:\n",
       "[1] Standard Errors assume that the covariance matrix of the errors is correctly specified.\n",
       "\"\"\""
      ]
     },
     "execution_count": 19,
     "metadata": {},
     "output_type": "execute_result"
    }
   ],
   "source": [
    "#set variables\n",
    "x = data[['Social','Google Adwords','Youtube']]\n",
    "y = data['Sales']\n",
    "\n",
    "#test train split\n",
    "x_train, x_test, y_train, y_test = train_test_split(\n",
    "                                          x, y, test_size = 0.2, random_state = 42\n",
    "                                        )\n",
    "\n",
    "# create a standard scaler for each variable and variable partition\n",
    "for col in x_train.columns:\n",
    "    ss_x_train = StandardScaler()\n",
    "    x_train[col] = ss_x_train.fit_transform(np.array(x_train[col]).reshape(-1,1))\n",
    "\n",
    "    ss_x_test = StandardScaler()\n",
    "    x_test[col] = ss_x_test.fit_transform(np.array(x_test[col]).reshape(-1,1))\n",
    "\n",
    "# fit the fit_transform train set\n",
    "ss_y_train = StandardScaler()\n",
    "y_train = ss_y_train.fit_transform(np.array(y_train).reshape(-1,1))\n",
    "\n",
    "#fit the fit_transform test set\n",
    "ss_y_test = StandardScaler()\n",
    "y_test = ss_y_test.fit_transform(np.array(y_test).reshape(-1,1))\n",
    "\n",
    "#add constant to train and test x\n",
    "x_train = sm.add_constant(x_train)\n",
    "x_test = sm.add_constant(x_test)\n",
    "\n",
    "# run model\n",
    "lin_model = sm.OLS(y_train, x_train).fit()\n",
    "\n",
    "lin_model.summary()"
   ]
  },
  {
   "cell_type": "code",
   "execution_count": 20,
   "metadata": {
    "colab": {
     "base_uri": "https://localhost:8080/"
    },
    "colab_type": "code",
    "id": "-rqf5a7N-WMJ",
    "outputId": "63b07dc0-57e2-4179-f46d-a87a24b13978"
   },
   "outputs": [
    {
     "name": "stdout",
     "output_type": "stream",
     "text": [
      "Train score: 0.900\n",
      "Test score: 0.913\n",
      "Train root mse: 0.316\n",
      "Test root mse: 0.295\n"
     ]
    }
   ],
   "source": [
    "#R2 scores\n",
    "print(f'Train score: {r2_score(y_train,lin_model.predict(x_train)):.3f}')\n",
    "print(f'Test score: {r2_score(y_test,lin_model.predict(x_test)):.3f}')\n",
    "#Root MSE Values\n",
    "print(f'Train root mse: {mean_squared_error(y_train, lin_model.predict(x_train))**0.5:.3f}')\n",
    "print(f'Test root mse: {mean_squared_error(y_test, lin_model.predict(x_test))**0.5:.3f}')"
   ]
  },
  {
   "cell_type": "code",
   "execution_count": 21,
   "metadata": {
    "colab": {
     "base_uri": "https://localhost:8080/"
    },
    "colab_type": "code",
    "id": "fRPxsKQn-WAM",
    "outputId": "5a9a0ac9-a686-4936-8e2c-5c5d6d61aa74"
   },
   "outputs": [
    {
     "name": "stdout",
     "output_type": "stream",
     "text": [
      "14.329999999999998\n",
      "15.130500000000001\n"
     ]
    }
   ],
   "source": [
    "y_prediction_test = lin_model.predict(x_test)\n",
    "y_pred = ss_y_test.inverse_transform(y_prediction_test)\n",
    "print(y_pred.mean())\n",
    "print(data['Sales'].mean())"
   ]
  },
  {
   "cell_type": "code",
   "execution_count": 22,
   "metadata": {
    "colab": {
     "base_uri": "https://localhost:8080/"
    },
    "colab_type": "code",
    "id": "mHvXAiR_-oXR",
    "outputId": "84bae23a-e97a-4150-9cd1-d4b459c9c428"
   },
   "outputs": [
    {
     "data": {
      "image/png": "[encoded data removed]",
      "text/plain": [
       "<Figure size 360x360 with 1 Axes>"
      ]
     },
     "metadata": {
      "needs_background": "light"
     },
     "output_type": "display_data"
    }
   ],
   "source": [
    "fig, ax = plt.subplots(1,1, figsize=(5,5))\n",
    "sns.barplot(lin_model.params.abs(), lin_model.params.index,ax=ax)\n",
    "show_values_on_bars(ax, \"h\", 0)\n",
    "\n",
    "plt.title('Absolute impact of variables on Sales')\n",
    "plt.show()"
   ]
  },
  {
   "cell_type": "markdown",
   "metadata": {
    "colab_type": "text",
    "id": "qlijt7eCagMA"
   },
   "source": [
    "# Ridge Regression\n",
    "* The Ridge regression gives about the same results for the coefficients as the OLS Regression. (5 cents per Dollar for Social and 10 cents per Dollar on Google Adwords)"
   ]
  },
  {
   "cell_type": "code",
   "execution_count": 23,
   "metadata": {
    "colab": {},
    "colab_type": "code",
    "id": "chzkXqjZGg5J"
   },
   "outputs": [],
   "source": [
    "#Set the variable\n",
    "x = data.drop(columns = ['Day','Sales'])\n",
    "y = data['Sales']\n",
    "\n",
    "#test_train_split\n",
    "x_train, x_test, y_train, y_test = train_test_split(x,\n",
    "                                                  y,\n",
    "                                                  test_size = 0.2,\n",
    "                                                  random_state = 12)\n",
    "\n",
    "#set alpha range\n",
    "# alpha_range = [np.power(10,float(number)) for number in range(-5,6)]\n",
    "alpha_range = range(800,1200)"
   ]
  },
  {
   "cell_type": "code",
   "execution_count": 26,
   "metadata": {
    "colab": {},
    "colab_type": "code",
    "id": "_h9d8xw1SB6S"
   },
   "outputs": [],
   "source": [
    "mydict = {}\n",
    "s = []\n",
    "\n",
    "for alpha_num in alpha_range:\n",
    "    #create ridge model object\n",
    "    ridge_cv_model = Ridge(alpha = alpha_num)\n",
    "  \n",
    "    #set up cross validation\n",
    "    ridge_cv_scores = cross_validate(ridge_cv_model,\n",
    "                                    x_train,\n",
    "                                    y_train,\n",
    "                                    cv = 10,\n",
    "                                    scoring=('r2','neg_mean_squared_error'))\n",
    "  \n",
    "    #get the mean of scores\n",
    "    r2_cv_mean = ridge_cv_scores['test_r2'].mean()\n",
    "    mse_cv_mean = ridge_cv_scores['test_neg_mean_squared_error'].mean()\n",
    "\n",
    "    mydict[f'{alpha_num}'] = (r2_cv_mean, mse_cv_mean)\n",
    "\n",
    "    s.append(r2_cv_mean)"
   ]
  },
  {
   "cell_type": "code",
   "execution_count": 27,
   "metadata": {
    "colab": {
     "base_uri": "https://localhost:8080/",
     "height": 35
    },
    "colab_type": "code",
    "id": "rJnlv8iuYJdn",
    "outputId": "701a81ce-840d-45fc-ca6b-3c683b7984f0"
   },
   "outputs": [
    {
     "data": {
      "text/plain": [
       "929"
      ]
     },
     "execution_count": 27,
     "metadata": {},
     "output_type": "execute_result"
    }
   ],
   "source": [
    "alpha_range[np.argmax(s)]"
   ]
  },
  {
   "cell_type": "code",
   "execution_count": 28,
   "metadata": {
    "colab": {
     "base_uri": "https://localhost:8080/",
     "height": 69
    },
    "colab_type": "code",
    "id": "30ZQwOaSYKzY",
    "outputId": "a1bf1c88-3627-4272-e0ab-6c52c5eabc09"
   },
   "outputs": [
    {
     "name": "stdout",
     "output_type": "stream",
     "text": [
      "[('Social', 0.052833434891692906), ('Google Adwords', 0.10850394999491064), ('Youtube', -0.0016392677821536598)]\n"
     ]
    }
   ],
   "source": [
    "estimator = Ridge(alpha_range[np.argmax(s)])\n",
    "estimator.fit(x_train,y_train)\n",
    "print(list(zip(x.columns,estimator.coef_)))"
   ]
  }
 ],
 "metadata": {
  "colab": {
   "collapsed_sections": [
    "dRYvTS8S4aOV",
    "GYmQdw1n3sh0",
    "FcRgwjb_lFT5",
    "byB-MiTXmGQC",
    "fKWB-WJ6989B",
    "qlijt7eCagMA"
   ],
   "name": "Project3.ipynb",
   "provenance": []
  },
  "kernelspec": {
   "display_name": "Python 3",
   "language": "python",
   "name": "python3"
  },
  "language_info": {
   "codemirror_mode": {
    "name": "ipython",
    "version": 3
   },
   "file_extension": ".py",
   "mimetype": "text/x-python",
   "name": "python",
   "nbconvert_exporter": "python",
   "pygments_lexer": "ipython3",
   "version": "3.7.6"
  }
 },
 "nbformat": 4,
 "nbformat_minor": 1
}
